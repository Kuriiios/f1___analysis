{
 "cells": [
  {
   "cell_type": "code",
   "execution_count": null,
   "id": "eeb6523d",
   "metadata": {},
   "outputs": [
    {
     "name": "stderr",
     "output_type": "stream",
     "text": [
      "req         WARNING \tDEFAULT CACHE ENABLED! (28.22 GB) /home/kurios/.cache/fastf1\n",
      "core           INFO \tLoading data for Australian Grand Prix - Practice 1 [v3.5.3]\n",
      "req            INFO \tUsing cached data for session_info\n",
      "req            INFO \tUsing cached data for driver_info\n",
      "req            INFO \tUsing cached data for session_status_data\n",
      "req            INFO \tUsing cached data for track_status_data\n",
      "req            INFO \tUsing cached data for _extended_timing_data\n",
      "req            INFO \tUsing cached data for timing_app_data\n",
      "core           INFO \tProcessing timing data...\n"
     ]
    },
    {
     "name": "stdout",
     "output_type": "stream",
     "text": [
      "Added /home/kurios/Documents/f1_analysis/plots to sys.path\n"
     ]
    },
    {
     "name": "stderr",
     "output_type": "stream",
     "text": [
      "req            INFO \tUsing cached data for car_data\n",
      "req            INFO \tUsing cached data for position_data\n",
      "req            INFO \tUsing cached data for weather_data\n",
      "req            INFO \tUsing cached data for race_control_messages\n",
      "core           INFO \tFinished loading data for 20 drivers: ['1', '4', '5', '6', '7', '10', '12', '14', '16', '18', '22', '23', '27', '30', '31', '44', '55', '63', '81', '87']\n",
      "req            INFO \tUsing cached data for driver_info\n",
      "/home/kurios/Documents/f1_analysis/f1_analysis_env/lib/python3.10/site-packages/numpy/lib/nanfunctions.py:1215: RuntimeWarning: Mean of empty slice\n",
      "  return np.nanmean(a, axis, out=out, keepdims=keepdims)\n",
      "/home/kurios/Documents/f1_analysis/f1_analysis_env/lib/python3.10/site-packages/numpy/lib/nanfunctions.py:1215: RuntimeWarning: Mean of empty slice\n",
      "  return np.nanmean(a, axis, out=out, keepdims=keepdims)\n",
      "/home/kurios/Documents/f1_analysis/f1_analysis_env/lib/python3.10/site-packages/numpy/lib/nanfunctions.py:1215: RuntimeWarning: Mean of empty slice\n",
      "  return np.nanmean(a, axis, out=out, keepdims=keepdims)\n",
      "/home/kurios/Documents/f1_analysis/f1_analysis_env/lib/python3.10/site-packages/numpy/lib/nanfunctions.py:1215: RuntimeWarning: Mean of empty slice\n",
      "  return np.nanmean(a, axis, out=out, keepdims=keepdims)\n",
      "/home/kurios/Documents/f1_analysis/f1_analysis_env/lib/python3.10/site-packages/numpy/lib/nanfunctions.py:1215: RuntimeWarning: Mean of empty slice\n",
      "  return np.nanmean(a, axis, out=out, keepdims=keepdims)\n",
      "/home/kurios/Documents/f1_analysis/f1_analysis_env/lib/python3.10/site-packages/numpy/lib/nanfunctions.py:1215: RuntimeWarning: Mean of empty slice\n",
      "  return np.nanmean(a, axis, out=out, keepdims=keepdims)\n",
      "/home/kurios/Documents/f1_analysis/f1_analysis_env/lib/python3.10/site-packages/numpy/lib/nanfunctions.py:1215: RuntimeWarning: Mean of empty slice\n",
      "  return np.nanmean(a, axis, out=out, keepdims=keepdims)\n",
      "/home/kurios/Documents/f1_analysis/f1_analysis_env/lib/python3.10/site-packages/numpy/lib/nanfunctions.py:1215: RuntimeWarning: Mean of empty slice\n",
      "  return np.nanmean(a, axis, out=out, keepdims=keepdims)\n",
      "/home/kurios/Documents/f1_analysis/f1_analysis_env/lib/python3.10/site-packages/numpy/lib/nanfunctions.py:1215: RuntimeWarning: Mean of empty slice\n",
      "  return np.nanmean(a, axis, out=out, keepdims=keepdims)\n",
      "/home/kurios/Documents/f1_analysis/f1_analysis_env/lib/python3.10/site-packages/numpy/lib/nanfunctions.py:1215: RuntimeWarning: Mean of empty slice\n",
      "  return np.nanmean(a, axis, out=out, keepdims=keepdims)\n",
      "/home/kurios/Documents/f1_analysis/f1_analysis_env/lib/python3.10/site-packages/numpy/lib/nanfunctions.py:1215: RuntimeWarning: Mean of empty slice\n",
      "  return np.nanmean(a, axis, out=out, keepdims=keepdims)\n",
      "/home/kurios/Documents/f1_analysis/f1_analysis_env/lib/python3.10/site-packages/numpy/lib/nanfunctions.py:1215: RuntimeWarning: Mean of empty slice\n",
      "  return np.nanmean(a, axis, out=out, keepdims=keepdims)\n",
      "/home/kurios/Documents/f1_analysis/f1_analysis_env/lib/python3.10/site-packages/numpy/lib/nanfunctions.py:1215: RuntimeWarning: Mean of empty slice\n",
      "  return np.nanmean(a, axis, out=out, keepdims=keepdims)\n",
      "/home/kurios/Documents/f1_analysis/f1_analysis_env/lib/python3.10/site-packages/numpy/lib/nanfunctions.py:1215: RuntimeWarning: Mean of empty slice\n",
      "  return np.nanmean(a, axis, out=out, keepdims=keepdims)\n",
      "/home/kurios/Documents/f1_analysis/f1_analysis_env/lib/python3.10/site-packages/numpy/lib/nanfunctions.py:1215: RuntimeWarning: Mean of empty slice\n",
      "  return np.nanmean(a, axis, out=out, keepdims=keepdims)\n",
      "/home/kurios/Documents/f1_analysis/f1_analysis_env/lib/python3.10/site-packages/numpy/lib/nanfunctions.py:1215: RuntimeWarning: Mean of empty slice\n",
      "  return np.nanmean(a, axis, out=out, keepdims=keepdims)\n",
      "/home/kurios/Documents/f1_analysis/f1_analysis_env/lib/python3.10/site-packages/numpy/lib/nanfunctions.py:1215: RuntimeWarning: Mean of empty slice\n",
      "  return np.nanmean(a, axis, out=out, keepdims=keepdims)\n",
      "/home/kurios/Documents/f1_analysis/f1_analysis_env/lib/python3.10/site-packages/numpy/lib/nanfunctions.py:1215: RuntimeWarning: Mean of empty slice\n",
      "  return np.nanmean(a, axis, out=out, keepdims=keepdims)\n",
      "/home/kurios/Documents/f1_analysis/f1_analysis_env/lib/python3.10/site-packages/numpy/lib/nanfunctions.py:1215: RuntimeWarning: Mean of empty slice\n",
      "  return np.nanmean(a, axis, out=out, keepdims=keepdims)\n"
     ]
    },
    {
     "name": "stdout",
     "output_type": "stream",
     "text": [
      "convert /home/kurios/Documents/f1_analysis/reports/1_Australian Grand Prix_2025/1_FP1.pptx -> /home/kurios/Documents/f1_analysis/reports/1_Australian Grand Prix_2025/1_FP1.pdf using filter : impress_pdf_Export\n"
     ]
    }
   ],
   "source": [
    "from datetime import datetime, timedelta, timezone\n",
    "import fastf1\n",
    "\n",
    "year = datetime.today().year\n",
    "RoundNumber = fastf1.get_events_remaining()['RoundNumber'].values[0]\n",
    "EventFormat = fastf1.get_events_remaining()['EventFormat'].values[0]\n",
    "\n",
    "if EventFormat == 'conventional':\n",
    "    if ((datetime.today() - timedelta(hours=3,minutes=30)) == (fastf1.get_events_remaining()['Session1DateUtc'].values[0])):\n",
    "        import practice_1\n",
    "    if ((datetime.today() - timedelta(hours=3,minutes=30)) == (fastf1.get_events_remaining()['Session2DateUtc'].values[0])):\n",
    "        import practice_2 \n",
    "    if ((datetime.today() - timedelta(hours=3,minutes=30)) == (fastf1.get_events_remaining()['Session3DateUtc'].values[0])):\n",
    "        import practice_3\n",
    "    if ((datetime.today() - timedelta(hours=3,minutes=30)) == (fastf1.get_events_remaining()['Session4DateUtc'].values[0])):\n",
    "        import quali\n",
    "    if ((datetime.today() - timedelta(hours=4,minutes=30)) == (fastf1.get_events_remaining()['Session5DateUtc'].values[0])):\n",
    "        import race\n",
    "\n",
    "if EventFormat == 'sprint_qualifying':\n",
    "    if ((datetime.today() - timedelta(hours=3,minutes=30)) == (fastf1.get_events_remaining()['Session1DateUtc'].values[0])):\n",
    "        import practice_1\n",
    "    if ((datetime.today() - timedelta(hours=3,minutes=30)) == (fastf1.get_events_remaining()['Session2DateUtc'].values[0])):\n",
    "        import sprint \n",
    "    if ((datetime.today() - timedelta(hours=3,minutes=30)) == (fastf1.get_events_remaining()['Session3DateUtc'].values[0])):\n",
    "        import sprint_quali\n",
    "    if ((datetime.today() - timedelta(hours=3,minutes=30)) == (fastf1.get_events_remaining()['Session4DateUtc'].values[0])):\n",
    "        import quali\n",
    "    if ((datetime.today() - timedelta(hours=4,minutes=30)) == (fastf1.get_events_remaining()['Session5DateUtc'].values[0])):\n",
    "        import race"
   ]
  },
  {
   "cell_type": "code",
   "execution_count": null,
   "id": "94f943d7",
   "metadata": {},
   "outputs": [],
   "source": []
  }
 ],
 "metadata": {
  "kernelspec": {
   "display_name": "f1_analysis_env",
   "language": "python",
   "name": "python3"
  },
  "language_info": {
   "codemirror_mode": {
    "name": "ipython",
    "version": 3
   },
   "file_extension": ".py",
   "mimetype": "text/x-python",
   "name": "python",
   "nbconvert_exporter": "python",
   "pygments_lexer": "ipython3",
   "version": "3.10.12"
  }
 },
 "nbformat": 4,
 "nbformat_minor": 5
}
