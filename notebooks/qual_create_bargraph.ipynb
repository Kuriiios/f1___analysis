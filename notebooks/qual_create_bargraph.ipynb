{
 "cells": [
  {
   "cell_type": "code",
   "execution_count": 3,
   "metadata": {},
   "outputs": [],
   "source": [
    "import matplotlib.pyplot as plt\n",
    "from matplotlib.collections import LineCollection\n",
    "import matplotlib.colors as mcolors\n",
    "from matplotlib.font_manager import FontProperties\n",
    "\n",
    "import csv\n",
    "import pandas as pd\n",
    "import numpy as np \n",
    "\n",
    "from chromato.spaces import convert\n",
    "from chromato.spaces import HSV\n",
    "\n",
    "import fastf1\n",
    "import fastf1.plotting\n",
    "from fastf1 import utils \n",
    "\n",
    "import os\n",
    "from pathlib import Path\n",
    "import time\n"
   ]
  },
  {
   "cell_type": "code",
   "execution_count": 12,
   "metadata": {},
   "outputs": [],
   "source": [
    "def create_bar_graph_per_driver(team_drivers, quali_session):\n",
    "    team_drivers = fastf1.plotting.get_driver_abbreviations_by_team(team, session=session)\n",
    "    driver0_lap = quali_session.pick_drivers(team_drivers[0]).pick_fastest()\n",
    "    driver1_lap = quali_session.pick_drivers(team_drivers[1]).pick_fastest()\n",
    "    if type(driver0_lap) != type(None) and type(driver1_lap) != type(None) :\n",
    "        \n",
    "        driver0_tel = driver0_lap.get_car_data()\n",
    "    \n",
    "        full_throttle = round(len(np.where(driver0_tel['Throttle'].values >= 90)[0])/len(driver0_tel)*100)\n",
    "        brake = round(len(np.where(driver0_tel['Brake'] == True)[0])/len(driver0_tel)*100)\n",
    "        cornering = 100 - full_throttle - brake\n",
    "\n",
    "        driver1_tel = driver1_lap.get_car_data()\n",
    "    \n",
    "        full_throttle1 = round(len(np.where(driver1_tel['Throttle'].values >= 90)[0])/len(driver1_tel)*100)\n",
    "        brake1 = round(len(np.where(driver1_tel['Brake'] == True)[0])/len(driver1_tel)*100)\n",
    "        cornering1 = 100 - full_throttle - brake\n",
    "        \n",
    "        keys=('Full Throttle','Braking', 'Cornering' )\n",
    "        \n",
    "        full_throttle_bar = np.array([100, full_throttle])\n",
    "        brake_bar = np.array([100, brake])\n",
    "        cornering_bar = np.array([100, cornering])\n",
    "        plt.subplots(figsize=(5, 2))\n",
    "        plt.tick_params(\n",
    "            axis='both',\n",
    "            which='both',\n",
    "            bottom=False,\n",
    "            left=False,\n",
    "            labelleft=False,\n",
    "            labelbottom=False)\n",
    "        plt.barh(keys[2], cornering_bar, height=0.4 ,color = ['#696969', team_color])\n",
    "        plt.barh(keys[1], brake_bar, height=0.4, color = ['#696969', team_color])\n",
    "        plt.barh(keys[0], full_throttle_bar, height=0.4, color = ['#696969', team_color ])\n",
    "        plt.rcParams['axes.spines.left'] = False\n",
    "        plt.rcParams['axes.spines.right'] = False\n",
    "        plt.rcParams['axes.spines.top'] = False\n",
    "        plt.rcParams['axes.spines.bottom'] = False\n",
    "        \n",
    "        \n",
    "        full_throttle_bar1 = np.array([100, full_throttle1])\n",
    "        brake_bar1 = np.array([100, brake1])\n",
    "        cornering_bar1 = np.array([100, cornering1])\n",
    "        plt.subplots(figsize=(5, 2))\n",
    "        plt.barh(keys[2], cornering_bar1, height=0.4, color = ['#696969', team_color_2 ])\n",
    "        plt.barh(keys[1], brake_bar1, height=0.4, color = ['#696969', team_color_2])\n",
    "        plt.barh(keys[0], full_throttle_bar1, height=0.4, color = ['#696969', team_color_2 ])\n",
    "        plt.gca().invert_xaxis()\n",
    "        plt.rcParams['axes.spines.left'] = False\n",
    "        plt.rcParams['axes.spines.right'] = False\n",
    "        plt.rcParams['axes.spines.top'] = False\n",
    "        plt.rcParams['axes.spines.bottom'] = False\n",
    "        plt.tick_params(\n",
    "            axis='both',\n",
    "            which='both',\n",
    "            bottom=False,\n",
    "            left=False,\n",
    "            labelleft=False,\n",
    "            labelbottom=False)\n"
   ]
  },
  {
   "cell_type": "code",
   "execution_count": 13,
   "metadata": {},
   "outputs": [
    {
     "name": "stderr",
     "output_type": "stream",
     "text": [
      "core           INFO \tLoading data for Australian Grand Prix - Qualifying [v3.5.3]\n",
      "req            INFO \tUsing cached data for session_info\n",
      "req            INFO \tUsing cached data for driver_info\n",
      "req            INFO \tUsing cached data for session_status_data\n",
      "req            INFO \tUsing cached data for track_status_data\n",
      "req            INFO \tUsing cached data for _extended_timing_data\n",
      "req            INFO \tUsing cached data for timing_app_data\n",
      "core           INFO \tProcessing timing data...\n",
      "req            INFO \tUsing cached data for car_data\n",
      "req            INFO \tUsing cached data for position_data\n",
      "req            INFO \tUsing cached data for weather_data\n",
      "req            INFO \tUsing cached data for race_control_messages\n",
      "core           INFO \tFinished loading data for 20 drivers: ['4', '81', '1', '63', '22', '23', '16', '44', '10', '55', '6', '14', '18', '7', '5', '12', '27', '30', '31', '87']\n",
      "core           INFO \tLoading data for Australian Grand Prix - Qualifying [v3.5.3]\n",
      "req            INFO \tUsing cached data for session_info\n",
      "req            INFO \tUsing cached data for driver_info\n",
      "req            INFO \tUsing cached data for session_status_data\n",
      "req            INFO \tUsing cached data for track_status_data\n",
      "req            INFO \tUsing cached data for _extended_timing_data\n",
      "req            INFO \tUsing cached data for timing_app_data\n",
      "core           INFO \tProcessing timing data...\n",
      "req            INFO \tUsing cached data for car_data\n",
      "req            INFO \tUsing cached data for position_data\n",
      "req            INFO \tUsing cached data for weather_data\n",
      "req            INFO \tUsing cached data for race_control_messages\n",
      "core           INFO \tFinished loading data for 20 drivers: ['4', '81', '1', '63', '22', '23', '16', '44', '10', '55', '6', '14', '18', '7', '5', '12', '27', '30', '31', '87']\n",
      "/tmp/ipykernel_3441/3968961423.py:40: FutureWarning: Series.__getitem__ treating keys as positions is deprecated. In a future version, integer keys will always be treated as labels (consistent with DataFrame behavior). To access a value by position, use `ser.iloc[pos]`\n",
      "  team_color_2 = df_color.loc[team][0]\n",
      "/tmp/ipykernel_3441/3968961423.py:40: FutureWarning: Series.__getitem__ treating keys as positions is deprecated. In a future version, integer keys will always be treated as labels (consistent with DataFrame behavior). To access a value by position, use `ser.iloc[pos]`\n",
      "  team_color_2 = df_color.loc[team][0]\n",
      "/tmp/ipykernel_3441/3968961423.py:40: FutureWarning: Series.__getitem__ treating keys as positions is deprecated. In a future version, integer keys will always be treated as labels (consistent with DataFrame behavior). To access a value by position, use `ser.iloc[pos]`\n",
      "  team_color_2 = df_color.loc[team][0]\n",
      "/tmp/ipykernel_3441/3968961423.py:40: FutureWarning: Series.__getitem__ treating keys as positions is deprecated. In a future version, integer keys will always be treated as labels (consistent with DataFrame behavior). To access a value by position, use `ser.iloc[pos]`\n",
      "  team_color_2 = df_color.loc[team][0]\n",
      "/tmp/ipykernel_3441/3968961423.py:40: FutureWarning: Series.__getitem__ treating keys as positions is deprecated. In a future version, integer keys will always be treated as labels (consistent with DataFrame behavior). To access a value by position, use `ser.iloc[pos]`\n",
      "  team_color_2 = df_color.loc[team][0]\n",
      "/tmp/ipykernel_3441/3968961423.py:40: FutureWarning: Series.__getitem__ treating keys as positions is deprecated. In a future version, integer keys will always be treated as labels (consistent with DataFrame behavior). To access a value by position, use `ser.iloc[pos]`\n",
      "  team_color_2 = df_color.loc[team][0]\n",
      "/tmp/ipykernel_3441/1675522810.py:24: RuntimeWarning: More than 20 figures have been opened. Figures created through the pyplot interface (`matplotlib.pyplot.figure`) are retained until explicitly closed and may consume too much memory. (To control this warning, see the rcParam `figure.max_open_warning`). Consider using `matplotlib.pyplot.close()`.\n",
      "  plt.subplots(figsize=(5, 2))\n",
      "/tmp/ipykernel_3441/3968961423.py:40: FutureWarning: Series.__getitem__ treating keys as positions is deprecated. In a future version, integer keys will always be treated as labels (consistent with DataFrame behavior). To access a value by position, use `ser.iloc[pos]`\n",
      "  team_color_2 = df_color.loc[team][0]\n",
      "/tmp/ipykernel_3441/3968961423.py:40: FutureWarning: Series.__getitem__ treating keys as positions is deprecated. In a future version, integer keys will always be treated as labels (consistent with DataFrame behavior). To access a value by position, use `ser.iloc[pos]`\n",
      "  team_color_2 = df_color.loc[team][0]\n",
      "/tmp/ipykernel_3441/3968961423.py:40: FutureWarning: Series.__getitem__ treating keys as positions is deprecated. In a future version, integer keys will always be treated as labels (consistent with DataFrame behavior). To access a value by position, use `ser.iloc[pos]`\n",
      "  team_color_2 = df_color.loc[team][0]\n",
      "/tmp/ipykernel_3441/3968961423.py:40: FutureWarning: Series.__getitem__ treating keys as positions is deprecated. In a future version, integer keys will always be treated as labels (consistent with DataFrame behavior). To access a value by position, use `ser.iloc[pos]`\n",
      "  team_color_2 = df_color.loc[team][0]\n"
     ]
    },
    {
     "data": {
      "image/png": "[encoded data removed]",
      "text/plain": [
       "<Figure size 500x200 with 1 Axes>"
      ]
     },
     "metadata": {},
     "output_type": "display_data"
    },
    {
     "data": {
      "image/png": "[encoded data removed]",
      "text/plain": [
       "<Figure size 500x200 with 1 Axes>"
      ]
     },
     "metadata": {},
     "output_type": "display_data"
    },
    {
     "data": {
      "image/png": "[encoded data removed]",
      "text/plain": [
       "<Figure size 500x200 with 1 Axes>"
      ]
     },
     "metadata": {},
     "output_type": "display_data"
    },
    {
     "data": {
      "image/png": "[encoded data removed]",
      "text/plain": [
       "<Figure size 500x200 with 1 Axes>"
      ]
     },
     "metadata": {},
     "output_type": "display_data"
    },
    {
     "data": {
      "image/png": "[encoded data removed]",
      "text/plain": [
       "<Figure size 500x200 with 1 Axes>"
      ]
     },
     "metadata": {},
     "output_type": "display_data"
    },
    {
     "data": {
      "image/png": "[encoded data removed]",
      "text/plain": [
       "<Figure size 500x200 with 1 Axes>"
      ]
     },
     "metadata": {},
     "output_type": "display_data"
    },
    {
     "data": {
      "image/png": "[encoded data removed]",
      "text/plain": [
       "<Figure size 500x200 with 1 Axes>"
      ]
     },
     "metadata": {},
     "output_type": "display_data"
    },
    {
     "data": {
      "image/png": "[encoded data removed]",
      "text/plain": [
       "<Figure size 500x200 with 1 Axes>"
      ]
     },
     "metadata": {},
     "output_type": "display_data"
    },
    {
     "data": {
      "image/png": "[encoded data removed]",
      "text/plain": [
       "<Figure size 500x200 with 1 Axes>"
      ]
     },
     "metadata": {},
     "output_type": "display_data"
    },
    {
     "data": {
      "image/png": "[encoded data removed]",
      "text/plain": [
       "<Figure size 500x200 with 1 Axes>"
      ]
     },
     "metadata": {},
     "output_type": "display_data"
    },
    {
     "data": {
      "image/png": "[encoded data removed]",
      "text/plain": [
       "<Figure size 500x200 with 1 Axes>"
      ]
     },
     "metadata": {},
     "output_type": "display_data"
    },
    {
     "data": {
      "image/png": "[encoded data removed]",
      "text/plain": [
       "<Figure size 500x200 with 1 Axes>"
      ]
     },
     "metadata": {},
     "output_type": "display_data"
    },
    {
     "data": {
      "image/png": "[encoded data removed]",
      "text/plain": [
       "<Figure size 500x200 with 1 Axes>"
      ]
     },
     "metadata": {},
     "output_type": "display_data"
    },
    {
     "data": {
      "image/png": "[encoded data removed]",
      "text/plain": [
       "<Figure size 500x200 with 1 Axes>"
      ]
     },
     "metadata": {},
     "output_type": "display_data"
    },
    {
     "data": {
      "image/png": "[encoded data removed]",
      "text/plain": [
       "<Figure size 500x200 with 1 Axes>"
      ]
     },
     "metadata": {},
     "output_type": "display_data"
    },
    {
     "data": {
      "image/png": "[encoded data removed]",
      "text/plain": [
       "<Figure size 500x200 with 1 Axes>"
      ]
     },
     "metadata": {},
     "output_type": "display_data"
    },
    {
     "data": {
      "image/png": "[encoded data removed]",
      "text/plain": [
       "<Figure size 500x200 with 1 Axes>"
      ]
     },
     "metadata": {},
     "output_type": "display_data"
    },
    {
     "data": {
      "image/png": "[encoded data removed]",
      "text/plain": [
       "<Figure size 500x200 with 1 Axes>"
      ]
     },
     "metadata": {},
     "output_type": "display_data"
    },
    {
     "data": {
      "image/png": "[encoded data removed]",
      "text/plain": [
       "<Figure size 500x200 with 1 Axes>"
      ]
     },
     "metadata": {},
     "output_type": "display_data"
    },
    {
     "data": {
      "image/png": "[encoded data removed]",
      "text/plain": [
       "<Figure size 500x200 with 1 Axes>"
      ]
     },
     "metadata": {},
     "output_type": "display_data"
    },
    {
     "data": {
      "image/png": "[encoded data removed]",
      "text/plain": [
       "<Figure size 500x200 with 1 Axes>"
      ]
     },
     "metadata": {},
     "output_type": "display_data"
    },
    {
     "data": {
      "image/png": "[encoded data removed]",
      "text/plain": [
       "<Figure size 500x200 with 1 Axes>"
      ]
     },
     "metadata": {},
     "output_type": "display_data"
    },
    {
     "data": {
      "image/png": "[encoded data removed]",
      "text/plain": [
       "<Figure size 500x200 with 1 Axes>"
      ]
     },
     "metadata": {},
     "output_type": "display_data"
    },
    {
     "data": {
      "image/png": "[encoded data removed]",
      "text/plain": [
       "<Figure size 500x200 with 1 Axes>"
      ]
     },
     "metadata": {},
     "output_type": "display_data"
    },
    {
     "data": {
      "image/png": "[encoded data removed]",
      "text/plain": [
       "<Figure size 500x200 with 1 Axes>"
      ]
     },
     "metadata": {},
     "output_type": "display_data"
    },
    {
     "data": {
      "image/png": "[encoded data removed]",
      "text/plain": [
       "<Figure size 500x200 with 1 Axes>"
      ]
     },
     "metadata": {},
     "output_type": "display_data"
    },
    {
     "data": {
      "image/png": "[encoded data removed]",
      "text/plain": [
       "<Figure size 500x200 with 1 Axes>"
      ]
     },
     "metadata": {},
     "output_type": "display_data"
    },
    {
     "data": {
      "image/png": "[encoded data removed]",
      "text/plain": [
       "<Figure size 500x200 with 1 Axes>"
      ]
     },
     "metadata": {},
     "output_type": "display_data"
    },
    {
     "data": {
      "image/png": "[encoded data removed]",
      "text/plain": [
       "<Figure size 500x200 with 1 Axes>"
      ]
     },
     "metadata": {},
     "output_type": "display_data"
    },
    {
     "data": {
      "image/png": "[encoded data removed]",
      "text/plain": [
       "<Figure size 500x200 with 1 Axes>"
      ]
     },
     "metadata": {},
     "output_type": "display_data"
    },
    {
     "data": {
      "image/png": "[encoded data removed]",
      "text/plain": [
       "<Figure size 500x200 with 1 Axes>"
      ]
     },
     "metadata": {},
     "output_type": "display_data"
    },
    {
     "data": {
      "image/png": "[encoded data removed]",
      "text/plain": [
       "<Figure size 500x200 with 1 Axes>"
      ]
     },
     "metadata": {},
     "output_type": "display_data"
    },
    {
     "data": {
      "image/png": "[encoded data removed]",
      "text/plain": [
       "<Figure size 500x200 with 1 Axes>"
      ]
     },
     "metadata": {},
     "output_type": "display_data"
    },
    {
     "data": {
      "image/png": "[encoded data removed]",
      "text/plain": [
       "<Figure size 500x200 with 1 Axes>"
      ]
     },
     "metadata": {},
     "output_type": "display_data"
    },
    {
     "data": {
      "image/png": "[encoded data removed]",
      "text/plain": [
       "<Figure size 500x200 with 1 Axes>"
      ]
     },
     "metadata": {},
     "output_type": "display_data"
    },
    {
     "data": {
      "image/png": "[encoded data removed]",
      "text/plain": [
       "<Figure size 500x200 with 1 Axes>"
      ]
     },
     "metadata": {},
     "output_type": "display_data"
    }
   ],
   "source": [
    "#year = int(input('Year ? '))\n",
    "#race_number = int(input('Race Number ? '))\n",
    "#race_session = input('Session ? ')\n",
    "\n",
    "year = 2025\n",
    "race_number = 1\n",
    "race_session = 'Q'\n",
    "\n",
    "session = fastf1.get_session(year, race_number, race_session)\n",
    "session.load()\n",
    "\n",
    "lap = session.laps.pick_fastest()\n",
    "pos = lap.get_pos_data()\n",
    "\n",
    "teams = fastf1.plotting.list_team_names(session)\n",
    "circuit_info = session.get_circuit_info()\n",
    "\n",
    "delta_per_team = {}\n",
    "\n",
    "start_time = time.time()\n",
    "\n",
    "session= fastf1.get_session(year, race_number, race_session)\n",
    "session.load()\n",
    "q1, q2, q3 = session.laps.split_qualifying_sessions()\n",
    "is_nat = np.isnat(q1['LapTime'])\n",
    "q1 = q1[~is_nat]\n",
    "is_nat = np.isnat(q2['LapTime'])\n",
    "q2 = q2[~is_nat]\n",
    "is_nat = np.isnat(q3['LapTime'])\n",
    "q3 = q3[~is_nat]\n",
    "teams = fastf1.plotting.list_team_names(session)\n",
    "\n",
    "\n",
    "#circuit_info = session.get_circuit_info()\n",
    "\n",
    "for idx, team in enumerate(teams):\n",
    "    team_drivers = fastf1.plotting.get_driver_abbreviations_by_team(team, session=session)\n",
    "    team_color = fastf1.plotting.get_team_color(team, session=session)\n",
    "    df_color=pd.read_csv(\"../data/raw/second_color.csv\", index_col='team')\n",
    "    team_color_2 = df_color.loc[team][0]\n",
    "    if team_drivers[0] in  q1['Driver'].values and team_drivers[1] in  q1['Driver'].values:\n",
    "        sub_session = 'Q1'\n",
    "        try:\n",
    "            create_bar_graph_per_driver(team_drivers, q1)\n",
    "        except:\n",
    "            print(f'No data in {sub_session} for {team}')\n",
    "    if team_drivers[0] in  q2['Driver'].values and team_drivers[1] in  q2['Driver'].values:\n",
    "        sub_session = 'Q2'\n",
    "        try:\n",
    "            create_bar_graph_per_driver(team_drivers, q2)\n",
    "        except:\n",
    "            print(f'No data in {sub_session} for {team}')\n",
    "    if team_drivers[0] in  q3['Driver'].values and team_drivers[1] in  q3['Driver'].values:\n",
    "        sub_session = 'Q3'\n",
    "        try:\n",
    "            create_bar_graph_per_driver(team_drivers, q3)\n",
    "        except:\n",
    "            print(f'No data in {sub_session} for {team}')"
   ]
  },
  {
   "cell_type": "code",
   "execution_count": null,
   "metadata": {},
   "outputs": [],
   "source": []
  }
 ],
 "metadata": {
  "kernelspec": {
   "display_name": "Python 3",
   "language": "python",
   "name": "python3"
  },
  "language_info": {
   "codemirror_mode": {
    "name": "ipython",
    "version": 3
   },
   "file_extension": ".py",
   "mimetype": "text/x-python",
   "name": "python",
   "nbconvert_exporter": "python",
   "pygments_lexer": "ipython3",
   "version": "3.12.9"
  }
 },
 "nbformat": 4,
 "nbformat_minor": 2
}
