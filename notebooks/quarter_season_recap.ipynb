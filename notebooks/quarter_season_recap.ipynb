{
 "cells": [
  {
   "cell_type": "code",
   "execution_count": 1,
   "metadata": {},
   "outputs": [],
   "source": [
    "import pandas as pd\n",
    "import os  \n",
    "from datetime import timedelta, datetime\n",
    "from pathlib import Path\n",
    "\n",
    "from fastf1.ergast import Ergast\n",
    "import fastf1.plotting\n",
    "\n",
    "ergast = Ergast()\n",
    "\n",
    "#parent_file = Path(__file__).resolve().parent.parent\n",
    "parent_file = '/home/kurios/Documents/f1_analysis/'\n",
    "\n",
    "year = 2025\n",
    "race_from = 1\n",
    "race_to = 7\n",
    "\n",
    "report_folder = parent_file + 'reports'"
   ]
  },
  {
   "cell_type": "code",
   "execution_count": 2,
   "metadata": {},
   "outputs": [],
   "source": [
    "def parse_laptime_str(lap_string):\n",
    "    \"\"\"Parses a lap time string (MM:SS.fff) into a timedelta object.\"\"\"\n",
    "    if isinstance(lap_string, str) and ':' in lap_string and '.' in lap_string:\n",
    "        minutes, rest = lap_string.split(':')\n",
    "        seconds, milliseconds = rest.split('.')\n",
    "        return timedelta(minutes=int(minutes), seconds=int(seconds), milliseconds=int(milliseconds))\n",
    "    else:\n",
    "        return timedelta(0)\n",
    "    \n",
    "\n",
    "def Hex_RGB(ip):\n",
    "    return tuple(int(ip[i+1:i+3],16) for i in (0, 2, 4))"
   ]
  },
  {
   "cell_type": "code",
   "execution_count": null,
   "metadata": {},
   "outputs": [
    {
     "name": "stderr",
     "output_type": "stream",
     "text": [
      "core           INFO \tLoading data for Australian Grand Prix - Race [v3.5.3]\n",
      "req            INFO \tUsing cached data for session_info\n",
      "req            INFO \tUsing cached data for driver_info\n",
      "req            INFO \tUsing cached data for session_status_data\n",
      "req            INFO \tUsing cached data for lap_count\n",
      "req            INFO \tUsing cached data for track_status_data\n",
      "req            INFO \tUsing cached data for _extended_timing_data\n",
      "req            INFO \tUsing cached data for timing_app_data\n",
      "core           INFO \tProcessing timing data...\n",
      "req            INFO \tUsing cached data for car_data\n",
      "req            INFO \tUsing cached data for position_data\n",
      "req            INFO \tUsing cached data for weather_data\n",
      "req            INFO \tUsing cached data for race_control_messages\n",
      "core        WARNING \tDriver 4 completed the race distance 00:00.022000 before the recorded end of the session.\n",
      "core           INFO \tFinished loading data for 20 drivers: ['4', '1', '63', '12', '23', '18', '27', '16', '81', '44', '10', '22', '31', '87', '30', '5', '14', '55', '7', '6']\n",
      "core           INFO \tLoading data for Australian Grand Prix - Qualifying [v3.5.3]\n",
      "req            INFO \tUsing cached data for session_info\n",
      "req            INFO \tUsing cached data for driver_info\n",
      "req            INFO \tUsing cached data for session_status_data\n",
      "req            INFO \tUsing cached data for track_status_data\n",
      "req            INFO \tUsing cached data for _extended_timing_data\n",
      "req            INFO \tUsing cached data for timing_app_data\n",
      "core           INFO \tProcessing timing data...\n"
     ]
    },
    {
     "name": "stdout",
     "output_type": "stream",
     "text": [
      "2025 Season Round 1: Australian Grand Prix - Race\n"
     ]
    },
    {
     "name": "stderr",
     "output_type": "stream",
     "text": [
      "req            INFO \tUsing cached data for car_data\n",
      "req            INFO \tUsing cached data for position_data\n",
      "req            INFO \tUsing cached data for weather_data\n",
      "req            INFO \tUsing cached data for race_control_messages\n",
      "core           INFO \tFinished loading data for 20 drivers: ['4', '81', '1', '63', '22', '23', '16', '44', '10', '55', '6', '14', '18', '7', '5', '12', '27', '30', '31', '87']\n",
      "core           INFO \tLoading data for Chinese Grand Prix - Sprint [v3.5.3]\n",
      "req            INFO \tUsing cached data for session_info\n",
      "req            INFO \tUsing cached data for driver_info\n",
      "req            INFO \tUsing cached data for session_status_data\n",
      "req            INFO \tUsing cached data for lap_count\n",
      "req            INFO \tUsing cached data for track_status_data\n",
      "req            INFO \tUsing cached data for _extended_timing_data\n",
      "req            INFO \tUsing cached data for timing_app_data\n",
      "core           INFO \tProcessing timing data...\n"
     ]
    },
    {
     "name": "stdout",
     "output_type": "stream",
     "text": [
      "2025 Season Round 1: Australian Grand Prix - Qualifying\n"
     ]
    },
    {
     "name": "stderr",
     "output_type": "stream",
     "text": [
      "req            INFO \tUsing cached data for car_data\n",
      "req            INFO \tUsing cached data for position_data\n",
      "req            INFO \tUsing cached data for weather_data\n",
      "req            INFO \tUsing cached data for race_control_messages\n",
      "core        WARNING \tDriver 44 completed the race distance 00:00.020000 before the recorded end of the session.\n",
      "core           INFO \tFinished loading data for 20 drivers: ['44', '81', '1', '63', '16', '22', '12', '4', '18', '14', '23', '10', '6', '30', '87', '31', '55', '5', '27', '7']\n",
      "core           INFO \tLoading data for Chinese Grand Prix - Race [v3.5.3]\n",
      "req            INFO \tUsing cached data for session_info\n",
      "req            INFO \tUsing cached data for driver_info\n",
      "req            INFO \tUsing cached data for session_status_data\n",
      "req            INFO \tUsing cached data for lap_count\n",
      "req            INFO \tUsing cached data for track_status_data\n",
      "req            INFO \tUsing cached data for _extended_timing_data\n",
      "req            INFO \tUsing cached data for timing_app_data\n",
      "core           INFO \tProcessing timing data...\n"
     ]
    },
    {
     "name": "stdout",
     "output_type": "stream",
     "text": [
      "2025 Season Round 2: Chinese Grand Prix - Sprint\n"
     ]
    },
    {
     "name": "stderr",
     "output_type": "stream",
     "text": [
      "req            INFO \tUsing cached data for car_data\n",
      "req            INFO \tUsing cached data for position_data\n",
      "req            INFO \tUsing cached data for weather_data\n",
      "req            INFO \tUsing cached data for race_control_messages\n",
      "core           INFO \tFinished loading data for 20 drivers: ['81', '4', '63', '1', '31', '12', '23', '87', '18', '55', '6', '30', '7', '5', '27', '22', '14', '16', '44', '10']\n",
      "core           INFO \tLoading data for Chinese Grand Prix - Sprint Qualifying [v3.5.3]\n",
      "req            INFO \tUsing cached data for session_info\n",
      "req            INFO \tUsing cached data for driver_info\n",
      "core        WARNING \tSprint Qualifying is not supported by Ergast! Limited results are calculated from timing data.\n",
      "req            INFO \tUsing cached data for session_status_data\n",
      "req            INFO \tUsing cached data for track_status_data\n",
      "req            INFO \tUsing cached data for _extended_timing_data\n",
      "req            INFO \tUsing cached data for timing_app_data\n",
      "core           INFO \tProcessing timing data...\n"
     ]
    },
    {
     "name": "stdout",
     "output_type": "stream",
     "text": [
      "2025 Season Round 2: Chinese Grand Prix - Race\n"
     ]
    },
    {
     "name": "stderr",
     "output_type": "stream",
     "text": [
      "req            INFO \tUsing cached data for car_data\n",
      "req            INFO \tUsing cached data for position_data\n",
      "req            INFO \tUsing cached data for weather_data\n",
      "req            INFO \tUsing cached data for race_control_messages\n",
      "core           INFO \tFinished loading data for 20 drivers: ['44', '1', '81', '16', '63', '4', '12', '22', '23', '18', '14', '87', '55', '5', '6', '7', '10', '31', '27', '30']\n",
      "core           INFO \tLoading data for Chinese Grand Prix - Qualifying [v3.5.3]\n",
      "req            INFO \tUsing cached data for session_info\n",
      "req            INFO \tUsing cached data for driver_info\n",
      "req            INFO \tUsing cached data for session_status_data\n",
      "req            INFO \tUsing cached data for track_status_data\n",
      "req            INFO \tUsing cached data for _extended_timing_data\n",
      "req            INFO \tUsing cached data for timing_app_data\n",
      "core           INFO \tProcessing timing data...\n"
     ]
    },
    {
     "name": "stdout",
     "output_type": "stream",
     "text": [
      "2025 Season Round 2: Chinese Grand Prix - Sprint Qualifying\n"
     ]
    },
    {
     "name": "stderr",
     "output_type": "stream",
     "text": [
      "req            INFO \tUsing cached data for car_data\n",
      "req            INFO \tUsing cached data for position_data\n",
      "req            INFO \tUsing cached data for weather_data\n",
      "req            INFO \tUsing cached data for race_control_messages\n",
      "core           INFO \tFinished loading data for 20 drivers: ['81', '63', '4', '1', '44', '16', '6', '12', '22', '23', '31', '27', '14', '18', '55', '10', '87', '7', '5', '30']\n",
      "core           INFO \tLoading data for Japanese Grand Prix - Race [v3.5.3]\n",
      "req            INFO \tUsing cached data for session_info\n",
      "req            INFO \tUsing cached data for driver_info\n",
      "req            INFO \tUsing cached data for session_status_data\n",
      "req            INFO \tUsing cached data for lap_count\n",
      "req            INFO \tUsing cached data for track_status_data\n",
      "req            INFO \tUsing cached data for _extended_timing_data\n",
      "req            INFO \tUsing cached data for timing_app_data\n",
      "core           INFO \tProcessing timing data...\n"
     ]
    },
    {
     "name": "stdout",
     "output_type": "stream",
     "text": [
      "2025 Season Round 2: Chinese Grand Prix - Qualifying\n"
     ]
    },
    {
     "name": "stderr",
     "output_type": "stream",
     "text": [
      "req            INFO \tUsing cached data for car_data\n",
      "req            INFO \tUsing cached data for position_data\n",
      "req            INFO \tUsing cached data for weather_data\n",
      "req            INFO \tUsing cached data for race_control_messages\n",
      "core           INFO \tFinished loading data for 20 drivers: ['1', '4', '81', '16', '63', '12', '44', '6', '23', '87', '14', '22', '10', '55', '7', '27', '30', '31', '5', '18']\n",
      "core           INFO \tLoading data for Japanese Grand Prix - Qualifying [v3.5.3]\n",
      "req            INFO \tUsing cached data for session_info\n",
      "req            INFO \tUsing cached data for driver_info\n",
      "req            INFO \tUsing cached data for session_status_data\n",
      "req            INFO \tUsing cached data for track_status_data\n",
      "req            INFO \tUsing cached data for _extended_timing_data\n",
      "req            INFO \tUsing cached data for timing_app_data\n",
      "core           INFO \tProcessing timing data...\n"
     ]
    },
    {
     "name": "stdout",
     "output_type": "stream",
     "text": [
      "2025 Season Round 3: Japanese Grand Prix - Race\n"
     ]
    },
    {
     "name": "stderr",
     "output_type": "stream",
     "text": [
      "req            INFO \tUsing cached data for car_data\n",
      "req            INFO \tUsing cached data for position_data\n",
      "req            INFO \tUsing cached data for weather_data\n",
      "req            INFO \tUsing cached data for race_control_messages\n",
      "core           INFO \tFinished loading data for 20 drivers: ['1', '4', '81', '16', '63', '12', '6', '44', '23', '87', '10', '55', '14', '30', '22', '27', '5', '31', '7', '18']\n",
      "core           INFO \tLoading data for Bahrain Grand Prix - Race [v3.5.3]\n",
      "req            INFO \tUsing cached data for session_info\n",
      "req            INFO \tUsing cached data for driver_info\n",
      "req            INFO \tUsing cached data for session_status_data\n",
      "req            INFO \tUsing cached data for lap_count\n",
      "req            INFO \tUsing cached data for track_status_data\n",
      "req            INFO \tUsing cached data for _extended_timing_data\n",
      "req            INFO \tUsing cached data for timing_app_data\n",
      "core           INFO \tProcessing timing data...\n"
     ]
    },
    {
     "name": "stdout",
     "output_type": "stream",
     "text": [
      "2025 Season Round 3: Japanese Grand Prix - Qualifying\n"
     ]
    },
    {
     "name": "stderr",
     "output_type": "stream",
     "text": [
      "core        WARNING \tDriver 63: Lap timing integrity check failed for 3 lap(s)\n",
      "req            INFO \tUsing cached data for car_data\n",
      "req            INFO \tUsing cached data for position_data\n",
      "req            INFO \tUsing cached data for weather_data\n",
      "req            INFO \tUsing cached data for race_control_messages\n",
      "core           INFO \tFinished loading data for 20 drivers: ['81', '63', '4', '16', '44', '1', '10', '31', '22', '87', '12', '23', '6', '7', '14', '30', '18', '5', '55', '27']\n",
      "core           INFO \tLoading data for Bahrain Grand Prix - Qualifying [v3.5.3]\n",
      "req            INFO \tUsing cached data for session_info\n",
      "req            INFO \tUsing cached data for driver_info\n",
      "req            INFO \tUsing cached data for session_status_data\n",
      "req            INFO \tUsing cached data for track_status_data\n",
      "req            INFO \tUsing cached data for _extended_timing_data\n",
      "req            INFO \tUsing cached data for timing_app_data\n",
      "core           INFO \tProcessing timing data...\n"
     ]
    },
    {
     "name": "stdout",
     "output_type": "stream",
     "text": [
      "2025 Season Round 4: Bahrain Grand Prix - Race\n"
     ]
    },
    {
     "name": "stderr",
     "output_type": "stream",
     "text": [
      "req            INFO \tUsing cached data for car_data\n",
      "req            INFO \tUsing cached data for position_data\n",
      "req            INFO \tUsing cached data for weather_data\n",
      "req            INFO \tUsing cached data for race_control_messages\n",
      "core           INFO \tFinished loading data for 20 drivers: ['81', '63', '16', '12', '10', '4', '1', '55', '44', '22', '7', '6', '14', '31', '23', '27', '30', '5', '18', '87']\n",
      "core           INFO \tLoading data for Saudi Arabian Grand Prix - Race [v3.5.3]\n",
      "req            INFO \tUsing cached data for session_info\n",
      "req            INFO \tUsing cached data for driver_info\n",
      "req            INFO \tUsing cached data for session_status_data\n",
      "req            INFO \tUsing cached data for lap_count\n",
      "req            INFO \tUsing cached data for track_status_data\n",
      "req            INFO \tUsing cached data for _extended_timing_data\n",
      "req            INFO \tUsing cached data for timing_app_data\n",
      "core           INFO \tProcessing timing data...\n"
     ]
    },
    {
     "name": "stdout",
     "output_type": "stream",
     "text": [
      "2025 Season Round 4: Bahrain Grand Prix - Qualifying\n"
     ]
    },
    {
     "name": "stderr",
     "output_type": "stream",
     "text": [
      "req            INFO \tUsing cached data for car_data\n",
      "req            INFO \tUsing cached data for position_data\n",
      "req            INFO \tUsing cached data for weather_data\n",
      "req            INFO \tUsing cached data for race_control_messages\n",
      "core           INFO \tFinished loading data for 20 drivers: ['81', '1', '16', '4', '63', '12', '44', '55', '23', '6', '14', '30', '87', '31', '27', '18', '7', '5', '22', '10']\n",
      "core           INFO \tLoading data for Saudi Arabian Grand Prix - Qualifying [v3.5.3]\n",
      "req            INFO \tUsing cached data for session_info\n",
      "req            INFO \tUsing cached data for driver_info\n",
      "req            INFO \tUsing cached data for session_status_data\n",
      "req            INFO \tUsing cached data for track_status_data\n",
      "req            INFO \tUsing cached data for _extended_timing_data\n",
      "req            INFO \tUsing cached data for timing_app_data\n",
      "core           INFO \tProcessing timing data...\n"
     ]
    },
    {
     "name": "stdout",
     "output_type": "stream",
     "text": [
      "2025 Season Round 5: Saudi Arabian Grand Prix - Race\n"
     ]
    },
    {
     "name": "stderr",
     "output_type": "stream",
     "text": [
      "req            INFO \tUsing cached data for car_data\n",
      "req            INFO \tUsing cached data for position_data\n",
      "req            INFO \tUsing cached data for weather_data\n",
      "req            INFO \tUsing cached data for race_control_messages\n",
      "core           INFO \tFinished loading data for 20 drivers: ['1', '81', '63', '16', '12', '55', '44', '22', '10', '4', '23', '30', '14', '6', '87', '18', '7', '27', '31', '5']\n",
      "core           INFO \tLoading data for Miami Grand Prix - Sprint [v3.5.3]\n",
      "req            INFO \tUsing cached data for session_info\n",
      "req            INFO \tUsing cached data for driver_info\n",
      "req            INFO \tUsing cached data for session_status_data\n",
      "req            INFO \tUsing cached data for lap_count\n",
      "req            INFO \tUsing cached data for track_status_data\n",
      "req            INFO \tUsing cached data for _extended_timing_data\n",
      "req            INFO \tUsing cached data for timing_app_data\n",
      "core           INFO \tProcessing timing data...\n"
     ]
    },
    {
     "name": "stdout",
     "output_type": "stream",
     "text": [
      "2025 Season Round 5: Saudi Arabian Grand Prix - Qualifying\n"
     ]
    },
    {
     "name": "stderr",
     "output_type": "stream",
     "text": [
      "core        WARNING \tNo lap data for driver 16\n",
      "core        WARNING \tFailed to perform lap accuracy check - all laps marked as inaccurate (driver 16)\n",
      "req            INFO \tUsing cached data for car_data\n",
      "req            INFO \tUsing cached data for position_data\n",
      "req            INFO \tUsing cached data for weather_data\n",
      "req            INFO \tUsing cached data for race_control_messages\n",
      "core        WARNING \tDriver 4 completed the race distance 00:00.023000 before the recorded end of the session.\n",
      "core           INFO \tFinished loading data for 20 drivers: ['4', '81', '44', '63', '18', '22', '12', '10', '27', '6', '23', '31', '30', '87', '5', '7', '1', '14', '55', '16']\n",
      "core           INFO \tLoading data for Miami Grand Prix - Race [v3.5.3]\n",
      "req            INFO \tUsing cached data for session_info\n",
      "req            INFO \tUsing cached data for driver_info\n",
      "req            INFO \tUsing cached data for session_status_data\n",
      "req            INFO \tUsing cached data for lap_count\n",
      "req            INFO \tUsing cached data for track_status_data\n",
      "req            INFO \tUsing cached data for _extended_timing_data\n",
      "req            INFO \tUsing cached data for timing_app_data\n",
      "core           INFO \tProcessing timing data...\n"
     ]
    },
    {
     "name": "stdout",
     "output_type": "stream",
     "text": [
      "2025 Season Round 6: Miami Grand Prix - Sprint\n"
     ]
    },
    {
     "name": "stderr",
     "output_type": "stream",
     "text": [
      "req            INFO \tUsing cached data for car_data\n",
      "req            INFO \tUsing cached data for position_data\n",
      "req            INFO \tUsing cached data for weather_data\n",
      "req            INFO \tUsing cached data for race_control_messages\n",
      "core        WARNING \tDriver 81 completed the race distance 00:00.036000 before the recorded end of the session.\n",
      "core           INFO \tFinished loading data for 20 drivers: ['81', '4', '63', '1', '23', '12', '16', '44', '55', '22', '6', '31', '10', '27', '14', '18', '30', '5', '87', '7']\n",
      "core           INFO \tLoading data for Miami Grand Prix - Sprint Qualifying [v3.5.3]\n",
      "req            INFO \tUsing cached data for session_info\n",
      "req            INFO \tUsing cached data for driver_info\n",
      "core        WARNING \tSprint Qualifying is not supported by Ergast! Limited results are calculated from timing data.\n",
      "req            INFO \tUsing cached data for session_status_data\n",
      "req            INFO \tUsing cached data for track_status_data\n",
      "req            INFO \tUsing cached data for _extended_timing_data\n",
      "req            INFO \tUsing cached data for timing_app_data\n",
      "core           INFO \tProcessing timing data...\n"
     ]
    },
    {
     "name": "stdout",
     "output_type": "stream",
     "text": [
      "2025 Season Round 6: Miami Grand Prix - Race\n"
     ]
    },
    {
     "name": "stderr",
     "output_type": "stream",
     "text": [
      "req            INFO \tUsing cached data for car_data\n",
      "req            INFO \tUsing cached data for position_data\n",
      "req            INFO \tUsing cached data for weather_data\n",
      "req            INFO \tUsing cached data for race_control_messages\n",
      "core           INFO \tFinished loading data for 20 drivers: ['12', '81', '4', '1', '63', '16', '44', '23', '6', '14', '27', '31', '10', '30', '55', '18', '7', '22', '5', '87']\n",
      "core           INFO \tLoading data for Miami Grand Prix - Qualifying [v3.5.3]\n",
      "req            INFO \tUsing cached data for session_info\n",
      "req            INFO \tUsing cached data for driver_info\n",
      "req            INFO \tUsing cached data for session_status_data\n",
      "req            INFO \tUsing cached data for track_status_data\n",
      "req            INFO \tUsing cached data for _extended_timing_data\n",
      "req            INFO \tUsing cached data for timing_app_data\n",
      "core           INFO \tProcessing timing data...\n"
     ]
    },
    {
     "name": "stdout",
     "output_type": "stream",
     "text": [
      "2025 Season Round 6: Miami Grand Prix - Sprint Qualifying\n"
     ]
    },
    {
     "name": "stderr",
     "output_type": "stream",
     "text": [
      "req            INFO \tUsing cached data for car_data\n",
      "req            INFO \tUsing cached data for position_data\n",
      "req            INFO \tUsing cached data for weather_data\n",
      "req            INFO \tUsing cached data for race_control_messages\n",
      "core           INFO \tFinished loading data for 20 drivers: ['1', '4', '12', '81', '63', '55', '23', '16', '31', '22', '6', '44', '5', '7', '30', '27', '14', '10', '18', '87']\n",
      "core           INFO \tLoading data for Emilia Romagna Grand Prix - Race [v3.5.3]\n",
      "req            INFO \tUsing cached data for session_info\n",
      "req            INFO \tUsing cached data for driver_info\n",
      "req            INFO \tUsing cached data for session_status_data\n",
      "req            INFO \tUsing cached data for lap_count\n",
      "req            INFO \tUsing cached data for track_status_data\n",
      "req            INFO \tUsing cached data for _extended_timing_data\n",
      "req            INFO \tUsing cached data for timing_app_data\n",
      "core           INFO \tProcessing timing data...\n"
     ]
    },
    {
     "name": "stdout",
     "output_type": "stream",
     "text": [
      "2025 Season Round 6: Miami Grand Prix - Qualifying\n"
     ]
    },
    {
     "name": "stderr",
     "output_type": "stream",
     "text": [
      "req            INFO \tUsing cached data for car_data\n",
      "req            INFO \tUsing cached data for position_data\n",
      "req            INFO \tUsing cached data for weather_data\n",
      "req            INFO \tUsing cached data for race_control_messages\n",
      "core           INFO \tFinished loading data for 20 drivers: ['1', '4', '81', '44', '23', '16', '63', '55', '6', '22', '14', '27', '10', '30', '18', '43', '87', '5', '12', '31']\n",
      "core           INFO \tLoading data for Emilia Romagna Grand Prix - Qualifying [v3.5.3]\n",
      "req            INFO \tUsing cached data for session_info\n",
      "req            INFO \tUsing cached data for driver_info\n",
      "req            INFO \tUsing cached data for session_status_data\n",
      "req            INFO \tUsing cached data for track_status_data\n",
      "req            INFO \tUsing cached data for _extended_timing_data\n",
      "req            INFO \tUsing cached data for timing_app_data\n",
      "core           INFO \tProcessing timing data...\n"
     ]
    },
    {
     "name": "stdout",
     "output_type": "stream",
     "text": [
      "2025 Season Round 7: Emilia Romagna Grand Prix - Race\n"
     ]
    },
    {
     "name": "stderr",
     "output_type": "stream",
     "text": [
      "req            INFO \tUsing cached data for car_data\n",
      "req            INFO \tUsing cached data for position_data\n",
      "req            INFO \tUsing cached data for weather_data\n",
      "req            INFO \tUsing cached data for race_control_messages\n",
      "core           INFO \tFinished loading data for 20 drivers: ['81', '1', '63', '4', '14', '55', '23', '18', '6', '10', '16', '44', '12', '5', '43', '30', '27', '31', '87', '22']\n"
     ]
    },
    {
     "name": "stdout",
     "output_type": "stream",
     "text": [
      "2025 Season Round 7: Emilia Romagna Grand Prix - Qualifying\n"
     ]
    }
   ],
   "source": [
    "   \n",
    "race_years = list(range(race_from, race_to+1))\n",
    "recaps = {}\n",
    "zero_time = timedelta(0)\n",
    "threshold_multiplier = 1.5\n",
    "\n",
    "qual_sessions = range(1, 4)\n",
    "\n",
    "\n",
    "for race_number in race_years:\n",
    "    for race_session in ('S', 'R', 'SQ', 'Q'):\n",
    "        try:\n",
    "            session = fastf1.get_session(year, race_number, race_session)\n",
    "            session.load()\n",
    "            print(session)\n",
    "            teams = fastf1.plotting.list_team_names(session)\n",
    "        except:\n",
    "            continue\n",
    "        if race_session == 'S' or race_session == 'R':\n",
    "            keyword = f'{race_number}_{race_session}_race_info'\n",
    "            driver_data_file = None\n",
    "            for fname in os.listdir(parent_file + 'data/processed/'):\n",
    "                if keyword in fname:\n",
    "                    driver_data_file = fname\n",
    "                    break\n",
    "\n",
    "            if driver_data_file:\n",
    "                os.chdir(parent_file + 'data/processed/')\n",
    "                arr = pd.read_csv(driver_data_file)\n",
    "                num_rows = len(arr)\n",
    "\n",
    "                temp_recap = {}\n",
    "\n",
    "                for i in range(num_rows):\n",
    "                    name_driver_1 = arr['driver_1_name'][i]\n",
    "                    name_driver_2 = arr['driver_2_name'][i]\n",
    "\n",
    "                    name = f'{name_driver_1}_{name_driver_2}'\n",
    "\n",
    "                    iqr_driver_1 = float(arr['iqr_driver_1'][i][:-2])\n",
    "                    iqr_driver_2 = float(arr['iqr_driver_2'][i][:-2])\n",
    "\n",
    "                    laptime_driver_1_str = arr['avg_laptime_driver_1'][i]\n",
    "                    laptime_driver_2_str = arr['avg_laptime_driver_2'][i]\n",
    "\n",
    "                    fastest_lap_driver_1_str = arr['fastest_driver_1'][i]\n",
    "                    fastest_lap_driver_2_str = arr['fastest_driver_2'][i]\n",
    "                    safety_car_lap_str = arr['safety_car_lap'][i]\n",
    "\n",
    "                    avg_seconds_driver_1 = parse_laptime_str(laptime_driver_1_str)\n",
    "                    avg_seconds_driver_2 = parse_laptime_str(laptime_driver_2_str)\n",
    "\n",
    "                    if (iqr_driver_1 != 0 and iqr_driver_2 != 0 and avg_seconds_driver_1 != zero_time and avg_seconds_driver_2 != zero_time\n",
    "                            and avg_seconds_driver_1 <= threshold_multiplier * avg_seconds_driver_2 and avg_seconds_driver_2 <= threshold_multiplier * avg_seconds_driver_1):\n",
    "\n",
    "                        if datetime.strptime(laptime_driver_1_str, '%M:%S.%f') < datetime.strptime(laptime_driver_2_str, '%M:%S.%f'):\n",
    "                            gap_driver_1 = -round((pd.to_timedelta(datetime.strptime(laptime_driver_2_str, '%M:%S.%f') - datetime.strptime(laptime_driver_1_str, '%M:%S.%f')).total_seconds()), 3)\n",
    "                        else:\n",
    "                            gap_driver_1 = round((pd.to_timedelta(datetime.strptime(laptime_driver_1_str, '%M:%S.%f') - datetime.strptime(laptime_driver_2_str, '%M:%S.%f')).total_seconds()), 3)\n",
    "\n",
    "                        gap_driver_2 = -gap_driver_1\n",
    "\n",
    "                        lap_advantage_1 = round((int(fastest_lap_driver_1_str[:-3])/(int(fastest_lap_driver_1_str[-2:])-int(safety_car_lap_str[:-3])))*100)\n",
    "                        lap_advantage_2 = round((int(fastest_lap_driver_2_str[:-3])/(int(fastest_lap_driver_2_str[-2:])-int(safety_car_lap_str[:-3])))*100)\n",
    "\n",
    "                        pit_stop_number_driver_1 = int(arr['number_pit_driver_1'][i])\n",
    "                        pit_stop_number_driver_2 = int(arr['number_pit_driver_2'][i])\n",
    "\n",
    "                        pit_stop_time_driver_1_td = parse_laptime_str(arr['total_duration_pit_driver_1'][i][:-2])\n",
    "                        pit_stop_time_driver_2_td = parse_laptime_str(arr['total_duration_pit_driver_2'][i][:-2])\n",
    "\n",
    "                        temp_recap.setdefault(name, {'first_race': 0, 'last_race': 0, 'total_iqr_driver_1': 0, 'total_gap_driver_1': 0, 'total_lap_advantage_driver_1': 0, 'total_pit_stop_time_driver_1': timedelta(0), 'total_pit_stop_number_driver_1': 0, 'count_driver_1': 0, 'total_pit_stop_number Driver 1': 0, 'total_qual_gap Driver 1': 0, 'total_corner_advantage Driver 1': 0, 'qual_count Driver 1': 0, \n",
    "                                                    'total_iqr_driver_2': 0, 'total_gap_driver_2': 0, 'total_lap_advantage_driver_2': 0, 'total_pit_stop_time_driver_2': timedelta(0), 'total_pit_stop_number_driver_2': 0, 'count_driver_2': 0, 'total_pit_stop_number Driver 2': 0, 'total_qual_gap Driver 2': 0, 'total_corner_advantage Driver 2': 0, 'qual_count Driver 2': 0})\n",
    "                        \n",
    "                        temp_recap[f'{name_driver_1}_{name_driver_2}']['first_race'] = min(race_number, temp_recap[f'{name_driver_1}_{name_driver_2}']['first_race'])\n",
    "                        temp_recap[f'{name_driver_1}_{name_driver_2}']['last_race'] = max(race_number, temp_recap[f'{name_driver_1}_{name_driver_2}']['last_race'])\n",
    "\n",
    "                        temp_recap[f'{name_driver_1}_{name_driver_2}']['total_iqr_driver_1'] += iqr_driver_1\n",
    "                        temp_recap[f'{name_driver_1}_{name_driver_2}']['total_gap_driver_1'] += gap_driver_1\n",
    "                        temp_recap[f'{name_driver_1}_{name_driver_2}']['total_lap_advantage_driver_1'] += lap_advantage_1\n",
    "                        temp_recap[f'{name_driver_1}_{name_driver_2}']['total_pit_stop_time_driver_1'] += pit_stop_time_driver_1_td\n",
    "                        temp_recap[f'{name_driver_1}_{name_driver_2}']['total_pit_stop_number_driver_1'] += pit_stop_number_driver_1\n",
    "                        temp_recap[f'{name_driver_1}_{name_driver_2}']['count_driver_1'] += 1\n",
    "                        temp_recap[f'{name_driver_1}_{name_driver_2}']['total_qual_gap Driver 1'] = 0\n",
    "                        temp_recap[f'{name_driver_1}_{name_driver_2}']['total_corner_advantage Driver 1'] = 0\n",
    "\n",
    "                        temp_recap[f'{name_driver_1}_{name_driver_2}']['total_iqr_driver_2'] += iqr_driver_2\n",
    "                        temp_recap[f'{name_driver_1}_{name_driver_2}']['total_gap_driver_2'] += gap_driver_2\n",
    "                        temp_recap[f'{name_driver_1}_{name_driver_2}']['total_lap_advantage_driver_2'] += lap_advantage_2\n",
    "                        temp_recap[f'{name_driver_1}_{name_driver_2}']['total_pit_stop_time_driver_2'] += pit_stop_time_driver_2_td\n",
    "                        temp_recap[f'{name_driver_1}_{name_driver_2}']['total_pit_stop_number_driver_2'] += pit_stop_number_driver_2\n",
    "                        temp_recap[f'{name_driver_1}_{name_driver_2}']['count_driver_2'] += 1\n",
    "                        temp_recap[f'{name_driver_1}_{name_driver_2}']['total_qual_gap Driver 2'] = 0\n",
    "                        temp_recap[f'{name_driver_1}_{name_driver_2}']['total_corner_advantage Driver 2'] = 0 \n",
    "\n",
    "                for name, data in temp_recap.items():\n",
    "\n",
    "                    recaps.setdefault(name, {'First Race': 0, 'Last Race': 0, 'Average IQR Driver 1': 0, 'Average Gap Race Lap Driver 1': 0, 'Lap Advantage Driver 1': 0, 'Average Pit Stop Time Driver 1': timedelta(0), 'total_count Driver 1': 0, 'total_pit_stop_number Driver 1': 0, 'total_qual_gap Driver 1': 0, 'total_corner_advantage Driver 1': 0, 'qual_count Driver 1': 0, \n",
    "                                            'Average IQR Driver 2': 0, 'Average Gap Race Lap Driver 2': 0, 'Lap Advantage Driver 2': 0, 'Average Pit Stop Time Driver 2': timedelta(0), 'total_count Driver 2': 0, 'total_pit_stop_number Driver 2': 0, 'total_qual_gap Driver 2': 0, 'total_corner_advantage Driver 2': 0, 'qual_count Driver 2': 0})\n",
    "                    \n",
    "                    recaps[name]['First Race'] = data['first_race'] + 1\n",
    "                    recaps[name]['Last Race'] = data['last_race']\n",
    "\n",
    "                    recaps[name]['Average IQR Driver 1'] += data['total_iqr_driver_1']\n",
    "                    recaps[name]['Average Gap Race Lap Driver 1'] += data['total_gap_driver_1']\n",
    "                    recaps[name]['Lap Advantage Driver 1'] += data['total_lap_advantage_driver_1']\n",
    "                    recaps[name]['Average Pit Stop Time Driver 1'] += data['total_pit_stop_time_driver_1']\n",
    "                    recaps[name]['total_count Driver 1'] += data['count_driver_1']\n",
    "                    recaps[name]['total_pit_stop_number Driver 1'] += data['total_pit_stop_number_driver_1']\n",
    "                    \n",
    "                    recaps[name]['Average IQR Driver 2'] += data['total_iqr_driver_2']\n",
    "                    recaps[name]['Average Gap Race Lap Driver 2'] += data['total_gap_driver_2']\n",
    "                    recaps[name]['Lap Advantage Driver 2'] += data['total_lap_advantage_driver_2']\n",
    "                    recaps[name]['Average Pit Stop Time Driver 2'] += data['total_pit_stop_time_driver_2']\n",
    "                    recaps[name]['total_count Driver 2'] += data['count_driver_2']\n",
    "                    recaps[name]['total_pit_stop_number Driver 2'] += data['total_pit_stop_number_driver_2']\n",
    "        \n",
    "        if race_session == 'SQ' or race_session == 'Q':            \n",
    "            for qual_session in qual_sessions:\n",
    "                keyword = f'{race_number}_{race_session}_drivers_info_Q{qual_session}'\n",
    "                driver_data_file = None\n",
    "                for fname in os.listdir(parent_file + 'data/processed/'):\n",
    "                    if keyword in fname:\n",
    "                        driver_data_file = fname\n",
    "                        break\n",
    "\n",
    "                if driver_data_file:\n",
    "                    os.chdir(parent_file + 'data/processed/')\n",
    "                    arr = pd.read_csv(driver_data_file)\n",
    "\n",
    "                    num_rows = len(arr)\n",
    "\n",
    "                    for i in range(num_rows):\n",
    "                        name_driver_1 = arr['Name'][i]\n",
    "                        name_driver_2 = arr['Name_1'][i]\n",
    "\n",
    "                        name = f'{name_driver_1}_{name_driver_2}'\n",
    "\n",
    "                        laptime_driver_1_str = arr['LapTime'][i]\n",
    "                        laptime_driver_2_str = arr['LapTime_1'][i]\n",
    "\n",
    "                        avg_seconds_driver_1 = parse_laptime_str(laptime_driver_1_str)\n",
    "                        avg_seconds_driver_2 = parse_laptime_str(laptime_driver_2_str)\n",
    "\n",
    "                        if (avg_seconds_driver_1 != zero_time and avg_seconds_driver_2 != zero_time\n",
    "                                and avg_seconds_driver_1 <= threshold_multiplier * avg_seconds_driver_2 and avg_seconds_driver_2 <= threshold_multiplier * avg_seconds_driver_1):\n",
    "\n",
    "                            time_driver_1 = datetime.strptime(laptime_driver_1_str, '%M:%S.%f')\n",
    "                            time_driver_2 = datetime.strptime(laptime_driver_2_str, '%M:%S.%f')\n",
    "\n",
    "                            gap = round((pd.to_timedelta(time_driver_1 - time_driver_2).total_seconds()), 3)\n",
    "\n",
    "                            corner_adv_1_num, corner_adv_1_den = map(int, arr['corner_advantage'][i].split('/'))\n",
    "                            corner_advantage_driver_1 = (corner_adv_1_num / corner_adv_1_den) * 100\n",
    "\n",
    "                            corner_adv_2_num, corner_adv_2_den = map(int, arr['corner_advantage1'][i].split('/'))\n",
    "                            corner_advantage_driver_2 = (corner_adv_2_num / corner_adv_2_den) * 100\n",
    "                            \n",
    "                            if not name in temp_recap:\n",
    "                                temp_recap.setdefault(name, {'Average IQR Driver 1': 0, 'Average Gap Race Lap Driver 1': 0, 'Lap Advantage Driver 1': 0, 'Average Pit Stop Time Driver 1': timedelta(0), 'total_count Driver 1': 0, 'total_pit_stop_number Driver 1': 0, 'total_qual_gap Driver 1': 0, 'total_corner_advantage Driver 1': 0, 'qual_count Driver 1': 0, \n",
    "                                                            'Average IQR Driver 2': 0, 'Average Gap Race Lap Driver 2': 0, 'Lap Advantage Driver 2': 0, 'Average Pit Stop Time Driver 2': timedelta(0), 'total_count Driver 2': 0, 'total_pit_stop_number Driver 2': 0, 'total_qual_gap Driver 2': 0, 'total_corner_advantage Driver 2': 0, 'qual_count Driver 2': 0})\n",
    "                            \n",
    "                            temp_recap[f'{name_driver_1}_{name_driver_2}']['total_qual_gap Driver 1'] += gap\n",
    "                            temp_recap[f'{name_driver_1}_{name_driver_2}']['total_corner_advantage Driver 1'] += corner_advantage_driver_1\n",
    "                            temp_recap[f'{name_driver_1}_{name_driver_2}']['qual_count Driver 1'] += 1\n",
    "\n",
    "                            temp_recap[f'{name_driver_1}_{name_driver_2}']['total_qual_gap Driver 2'] -= gap\n",
    "                            temp_recap[f'{name_driver_1}_{name_driver_2}']['total_corner_advantage Driver 2'] += corner_advantage_driver_2\n",
    "                            temp_recap[f'{name_driver_1}_{name_driver_2}']['qual_count Driver 2'] += 1\n",
    "\n",
    "                    for name, data in temp_recap.items():\n",
    "                        \n",
    "                        if not name in recaps:\n",
    "                            recaps.setdefault(name, {'Average IQR Driver 1': 0, 'Average Gap Race Lap Driver 1': 0, 'Lap Advantage Driver 1': 0, 'Average Pit Stop Time Driver 1': timedelta(0), 'total_count Driver 1': 0, 'total_pit_stop_number Driver 1': 0, 'total_qual_gap Driver 1': 0, 'total_corner_advantage Driver 1': 0, 'qual_count Driver 1': 0, \n",
    "                                                     'Average IQR Driver 2': 0, 'Average Gap Race Lap Driver 2': 0, 'Lap Advantage Driver 2': 0, 'Average Pit Stop Time Driver 2': timedelta(0), 'total_count Driver 2': 0, 'total_pit_stop_number Driver 2': 0, 'total_qual_gap Driver 2': 0, 'total_corner_advantage Driver 2': 0, 'qual_count Driver 2': 0})\n",
    "                        \n",
    "                        recaps[name]['total_qual_gap Driver 1'] += data['total_qual_gap Driver 1']\n",
    "                        recaps[name]['total_corner_advantage Driver 1'] += data['total_corner_advantage Driver 1']\n",
    "                        recaps[name]['qual_count Driver 1'] += data['qual_count Driver 1']\n",
    "\n",
    "                        recaps[name]['total_qual_gap Driver 2'] += data['total_qual_gap Driver 2']\n",
    "                        recaps[name]['total_corner_advantage Driver 2'] += data['total_corner_advantage Driver 2']\n",
    "                        recaps[name]['qual_count Driver 2'] += data['qual_count Driver 2']\n",
    "\n",
    "\n",
    "final_race_recaps = {}\n",
    "for name, data in recaps.items():\n",
    "    \n",
    "    first_race = data['First Race']\n",
    "    last_race = data['Last Race']\n",
    "\n",
    "    count_driver_1 = data['total_count Driver 1']\n",
    "    avg_iqr_driver_1 = round(data['Average IQR Driver 1'] / count_driver_1, 3) if count_driver_1 > 0 else \"N/A\"\n",
    "    avg_gap_driver_1 = round(data['Average Gap Race Lap Driver 1'] / count_driver_1, 3) if count_driver_1 > 0 else \"N/A\"\n",
    "    lap_advantage_driver_1 = round(data['Lap Advantage Driver 1'] / count_driver_1) if count_driver_1 > 0 else \"N/A\"\n",
    "    avg_pit_stop_time_driver_1 = round(data['Average Pit Stop Time Driver 1'].total_seconds() / data['total_pit_stop_number Driver 1'], 3) if data['total_pit_stop_number Driver 1'] > 0 else \"N/A\"\n",
    "\n",
    "    count_qual_driver_1 = data['qual_count Driver 1']\n",
    "    avg_qual_gap_driver_1 = round(data['total_qual_gap Driver 1'] / count_qual_driver_1, 3) if count_qual_driver_1 > 0 else \"N/A\"\n",
    "    avg_corner_advantage_driver_1 = round(data['total_corner_advantage Driver 1'] / count_qual_driver_1) if count_qual_driver_1 > 0 else \"N/A\"\n",
    "    \n",
    "    count_driver_2 = data['total_count Driver 2']\n",
    "    avg_iqr_driver_2 = round(data['Average IQR Driver 2'] / count_driver_2, 3) if count_driver_2 > 0 else \"N/A\"\n",
    "    avg_gap_driver_2 = round(data['Average Gap Race Lap Driver 2'] / count_driver_2, 3) if count_driver_2 > 0 else \"N/A\"\n",
    "    lap_advantage_driver_2 = round(data['Lap Advantage Driver 2'] / count_driver_2) if count_driver_2 > 0 else \"N/A\"\n",
    "    avg_pit_stop_time_driver_2 = round(data['Average Pit Stop Time Driver 2'].total_seconds() / data['total_pit_stop_number Driver 2'], 3) if data['total_pit_stop_number Driver 2'] > 0 else \"N/A\"\n",
    "\n",
    "    count_qual_driver_2 = data['qual_count Driver 2']\n",
    "    avg_qual_gap_driver_2 = round(data['total_qual_gap Driver 2'] / count_qual_driver_2, 3) if count_qual_driver_2 > 0 else \"N/A\"\n",
    "    avg_corner_advantage_driver_2 = round(data['total_corner_advantage Driver 2'] / count_qual_driver_2) if count_qual_driver_2 > 0 else \"N/A\"\n",
    "\n",
    "    final_race_recaps[name] = {\n",
    "        'First Race' : first_race,\n",
    "        'Last Race' : last_race,\n",
    "        'Average Gap Quali Lap Driver 1': f'{avg_qual_gap_driver_1}s',\n",
    "        'Corner Advantage Driver 1': f'{avg_corner_advantage_driver_1}%',\n",
    "        'Average IQR Driver 1': f'{avg_iqr_driver_1}s',\n",
    "        'Average Gap Race Lap Driver 1': f'{avg_gap_driver_1}s',\n",
    "        'Lap Advantage Driver 1': f'{lap_advantage_driver_1}%',\n",
    "        'Average Pit Stop Time Driver 1': f'{avg_pit_stop_time_driver_1}s',\n",
    "\n",
    "        'Average Gap Quali Lap Driver 2': f'{avg_qual_gap_driver_2}s',\n",
    "        'Corner Advantage Driver 2': f'{avg_corner_advantage_driver_2}%',\n",
    "        'Average IQR Driver 2': f'{avg_iqr_driver_2}s',\n",
    "        'Average Gap Race Lap Driver 2': f'{avg_gap_driver_2}s',\n",
    "        'Lap Advantage Driver 2': f'{lap_advantage_driver_2}%',\n",
    "        'Average Pit Stop Time Driver 2': f'{avg_pit_stop_time_driver_2}s'\n",
    "    }"
   ]
  },
  {
   "cell_type": "code",
   "execution_count": 24,
   "metadata": {},
   "outputs": [
    {
     "name": "stdout",
     "output_type": "stream",
     "text": [
      "{'Max Verstappen_Liam Lawson': {'First Race': 1, 'Last Race': 2, 'Average Gap Quali Lap Driver 1': '-0.863s', 'Corner Advantage Driver 1': '74%', 'Average IQR Driver 1': '2.308s', 'Average Gap Race Lap Driver 1': '-1.208s', 'Lap Advantage Driver 1': '86%', 'Average Pit Stop Time Driver 1': '16.662s', 'Average Gap Quali Lap Driver 2': '0.863s', 'Corner Advantage Driver 2': '26%', 'Average IQR Driver 2': '2.267s', 'Average Gap Race Lap Driver 2': '1.208s', 'Lap Advantage Driver 2': '14%', 'Average Pit Stop Time Driver 2': '19.156s'}, 'Kimi Antonelli_George Russell': {'First Race': 1, 'Last Race': 7, 'Average Gap Quali Lap Driver 1': '0.12s', 'Corner Advantage Driver 1': '50%', 'Average IQR Driver 1': '1.724s', 'Average Gap Race Lap Driver 1': '0.472s', 'Lap Advantage Driver 1': '26%', 'Average Pit Stop Time Driver 1': '24.487s', 'Average Gap Quali Lap Driver 2': '-0.12s', 'Corner Advantage Driver 2': '50%', 'Average IQR Driver 2': '1.554s', 'Average Gap Race Lap Driver 2': '-0.472s', 'Lap Advantage Driver 2': '74%', 'Average Pit Stop Time Driver 2': '21.442s'}, 'Fernando Alonso_Lance Stroll': {'First Race': 1, 'Last Race': 7, 'Average Gap Quali Lap Driver 1': '-0.261s', 'Corner Advantage Driver 1': '55%', 'Average IQR Driver 1': '1.769s', 'Average Gap Race Lap Driver 1': '-0.158s', 'Lap Advantage Driver 1': '54%', 'Average Pit Stop Time Driver 1': '22.873s', 'Average Gap Quali Lap Driver 2': '0.261s', 'Corner Advantage Driver 2': '45%', 'Average IQR Driver 2': '1.696s', 'Average Gap Race Lap Driver 2': '0.158s', 'Lap Advantage Driver 2': '46%', 'Average Pit Stop Time Driver 2': '22.266s'}, 'Charles Leclerc_Lewis Hamilton': {'First Race': 1, 'Last Race': 7, 'Average Gap Quali Lap Driver 1': '-0.002s', 'Corner Advantage Driver 1': '53%', 'Average IQR Driver 1': '1.722s', 'Average Gap Race Lap Driver 1': '-0.3s', 'Lap Advantage Driver 1': '63%', 'Average Pit Stop Time Driver 1': '21.846s', 'Average Gap Quali Lap Driver 2': '0.002s', 'Corner Advantage Driver 2': '47%', 'Average IQR Driver 2': '1.95s', 'Average Gap Race Lap Driver 2': '0.3s', 'Lap Advantage Driver 2': '37%', 'Average Pit Stop Time Driver 2': '21.774s'}, 'Nico Hulkenberg_Gabriel Bortoleto': {'First Race': 1, 'Last Race': 7, 'Average Gap Quali Lap Driver 1': '-0.179s', 'Corner Advantage Driver 1': '51%', 'Average IQR Driver 1': '2.208s', 'Average Gap Race Lap Driver 1': '-0.134s', 'Lap Advantage Driver 1': '54%', 'Average Pit Stop Time Driver 1': '21.197s', 'Average Gap Quali Lap Driver 2': '0.179s', 'Corner Advantage Driver 2': '49%', 'Average IQR Driver 2': '2.052s', 'Average Gap Race Lap Driver 2': '0.134s', 'Lap Advantage Driver 2': '46%', 'Average Pit Stop Time Driver 2': '23.326s'}, 'Esteban Ocon_Ollie Bearman': {'First Race': 1, 'Last Race': 7, 'Average Gap Quali Lap Driver 1': '-0.219s', 'Corner Advantage Driver 1': '52%', 'Average IQR Driver 1': '1.521s', 'Average Gap Race Lap Driver 1': '0.12s', 'Lap Advantage Driver 1': '46%', 'Average Pit Stop Time Driver 1': '21.802s', 'Average Gap Quali Lap Driver 2': '0.219s', 'Corner Advantage Driver 2': '48%', 'Average IQR Driver 2': '2.367s', 'Average Gap Race Lap Driver 2': '-0.12s', 'Lap Advantage Driver 2': '54%', 'Average Pit Stop Time Driver 2': '25.219s'}, 'Lando Norris_Oscar Piastri': {'First Race': 1, 'Last Race': 7, 'Average Gap Quali Lap Driver 1': '-0.066s', 'Corner Advantage Driver 1': '56%', 'Average IQR Driver 1': '1.627s', 'Average Gap Race Lap Driver 1': '0.163s', 'Lap Advantage Driver 1': '44%', 'Average Pit Stop Time Driver 1': '21.423s', 'Average Gap Quali Lap Driver 2': '0.066s', 'Corner Advantage Driver 2': '44%', 'Average IQR Driver 2': '1.611s', 'Average Gap Race Lap Driver 2': '-0.163s', 'Lap Advantage Driver 2': '56%', 'Average Pit Stop Time Driver 2': '21.596s'}, 'Pierre Gasly_Jack Doohan': {'First Race': 1, 'Last Race': 6, 'Average Gap Quali Lap Driver 1': '-0.281s', 'Corner Advantage Driver 1': '55%', 'Average IQR Driver 1': '2.126s', 'Average Gap Race Lap Driver 1': '-0.088s', 'Lap Advantage Driver 1': '73%', 'Average Pit Stop Time Driver 1': '24.793s', 'Average Gap Quali Lap Driver 2': '0.281s', 'Corner Advantage Driver 2': '45%', 'Average IQR Driver 2': '1.469s', 'Average Gap Race Lap Driver 2': '0.088s', 'Lap Advantage Driver 2': '27%', 'Average Pit Stop Time Driver 2': '24.015s'}, 'Yuki Tsunoda_Isack Hadjar': {'First Race': 1, 'Last Race': 2, 'Average Gap Quali Lap Driver 1': '0.056s', 'Corner Advantage Driver 1': '55%', 'Average IQR Driver 1': '1.909s', 'Average Gap Race Lap Driver 1': '-0.362s', 'Lap Advantage Driver 1': '76%', 'Average Pit Stop Time Driver 1': '27.735s', 'Average Gap Quali Lap Driver 2': '-0.056s', 'Corner Advantage Driver 2': '45%', 'Average IQR Driver 2': '1.496s', 'Average Gap Race Lap Driver 2': '0.362s', 'Lap Advantage Driver 2': '24%', 'Average Pit Stop Time Driver 2': '22.565s'}, 'Alexander Albon_Carlos Sainz': {'First Race': 1, 'Last Race': 7, 'Average Gap Quali Lap Driver 1': '-0.061s', 'Corner Advantage Driver 1': '54%', 'Average IQR Driver 1': '1.711s', 'Average Gap Race Lap Driver 1': '-0.273s', 'Lap Advantage Driver 1': '73%', 'Average Pit Stop Time Driver 1': '25.267s', 'Average Gap Quali Lap Driver 2': '0.061s', 'Corner Advantage Driver 2': '46%', 'Average IQR Driver 2': '1.461s', 'Average Gap Race Lap Driver 2': '0.273s', 'Lap Advantage Driver 2': '27%', 'Average Pit Stop Time Driver 2': '26.596s'}, 'Max Verstappen_Yuki Tsunoda': {'First Race': 1, 'Last Race': 7, 'Average Gap Quali Lap Driver 1': '-0.597s', 'Corner Advantage Driver 1': '61%', 'Average IQR Driver 1': '1.492s', 'Average Gap Race Lap Driver 1': '-0.886s', 'Lap Advantage Driver 1': '84%', 'Average Pit Stop Time Driver 1': '26.855s', 'Average Gap Quali Lap Driver 2': '0.597s', 'Corner Advantage Driver 2': '39%', 'Average IQR Driver 2': '2.203s', 'Average Gap Race Lap Driver 2': '0.886s', 'Lap Advantage Driver 2': '16%', 'Average Pit Stop Time Driver 2': '25.562s'}, 'Liam Lawson_Isack Hadjar': {'First Race': 1, 'Last Race': 7, 'Average Gap Quali Lap Driver 1': '0.313s', 'Corner Advantage Driver 1': '41%', 'Average IQR Driver 1': '1.941s', 'Average Gap Race Lap Driver 1': '0.637s', 'Lap Advantage Driver 1': '37%', 'Average Pit Stop Time Driver 1': '25.151s', 'Average Gap Quali Lap Driver 2': '-0.313s', 'Corner Advantage Driver 2': '59%', 'Average IQR Driver 2': '1.566s', 'Average Gap Race Lap Driver 2': '-0.637s', 'Lap Advantage Driver 2': '63%', 'Average Pit Stop Time Driver 2': '25.2s'}, 'Pierre Gasly_Franco Colapinto': {'First Race': 1, 'Last Race': 7, 'Average Gap Quali Lap Driver 1': '-0.319s', 'Corner Advantage Driver 1': '55%', 'Average IQR Driver 1': '1.259s', 'Average Gap Race Lap Driver 1': '-0.604s', 'Lap Advantage Driver 1': '72%', 'Average Pit Stop Time Driver 1': '31.745s', 'Average Gap Quali Lap Driver 2': '0.319s', 'Corner Advantage Driver 2': '45%', 'Average IQR Driver 2': '1.377s', 'Average Gap Race Lap Driver 2': '0.604s', 'Lap Advantage Driver 2': '28%', 'Average Pit Stop Time Driver 2': '30.712s'}}\n"
     ]
    }
   ],
   "source": [
    "print(final_race_recaps)"
   ]
  },
  {
   "cell_type": "code",
   "execution_count": 15,
   "metadata": {},
   "outputs": [
    {
     "name": "stdout",
     "output_type": "stream",
     "text": [
      "{'Max Verstappen_Liam Lawson': {'Average IQR Driver 1': 6.923, 'Average Gap Race Lap Driver 1': -3.625, 'Lap Advantage Driver 1': 257, 'Average Pit Stop Time Driver 1': datetime.timedelta(seconds=99, microseconds=969000), 'total_count Driver 1': 3, 'total_pit_stop_number Driver 1': 6, 'total_qual_gap Driver 1': -10.356, 'total_corner_advantage Driver 1': 892.9411764705885, 'qual_count Driver 1': 12, 'Average IQR Driver 2': 6.800000000000001, 'Average Gap Race Lap Driver 2': 3.625, 'Lap Advantage Driver 2': 43, 'Average Pit Stop Time Driver 2': datetime.timedelta(seconds=114, microseconds=937000), 'total_count Driver 2': 3, 'total_pit_stop_number Driver 2': 6, 'total_qual_gap Driver 2': 10.356, 'total_corner_advantage Driver 2': 307.05882352941177, 'qual_count Driver 2': 12}, 'Kimi Antonelli_George Russell': {'Average IQR Driver 1': 15.517000000000003, 'Average Gap Race Lap Driver 1': 4.251, 'Lap Advantage Driver 1': 238, 'Average Pit Stop Time Driver 1': datetime.timedelta(seconds=195, microseconds=894000), 'total_count Driver 1': 9, 'total_pit_stop_number Driver 1': 8, 'total_qual_gap Driver 1': 8.17, 'total_corner_advantage Driver 1': 3423.6936090225563, 'qual_count Driver 1': 68, 'Average IQR Driver 2': 13.99, 'Average Gap Race Lap Driver 2': -4.251, 'Lap Advantage Driver 2': 662, 'Average Pit Stop Time Driver 2': datetime.timedelta(seconds=278, microseconds=751000), 'total_count Driver 2': 9, 'total_pit_stop_number Driver 2': 13, 'total_qual_gap Driver 2': -8.17, 'total_corner_advantage Driver 2': 3376.3063909774437, 'qual_count Driver 2': 68}, 'Fernando Alonso_Lance Stroll': {'Average IQR Driver 1': 15.923000000000002, 'Average Gap Race Lap Driver 1': -1.4240000000000002, 'Lap Advantage Driver 1': 488, 'Average Pit Stop Time Driver 1': datetime.timedelta(seconds=228, microseconds=732000), 'total_count Driver 1': 9, 'total_pit_stop_number Driver 1': 10, 'total_qual_gap Driver 1': -11.738, 'total_corner_advantage Driver 1': 2485.651629072682, 'qual_count Driver 1': 45, 'Average IQR Driver 2': 15.265, 'Average Gap Race Lap Driver 2': 1.4240000000000002, 'Lap Advantage Driver 2': 412, 'Average Pit Stop Time Driver 2': datetime.timedelta(seconds=311, microseconds=721000), 'total_count Driver 2': 9, 'total_pit_stop_number Driver 2': 14, 'total_qual_gap Driver 2': 11.738, 'total_corner_advantage Driver 2': 2014.3483709273178, 'qual_count Driver 2': 45}, 'Charles Leclerc_Lewis Hamilton': {'Average IQR Driver 1': 13.773, 'Average Gap Race Lap Driver 1': -2.3979999999999997, 'Lap Advantage Driver 1': 505, 'Average Pit Stop Time Driver 1': datetime.timedelta(seconds=284), 'total_count Driver 1': 8, 'total_pit_stop_number Driver 1': 13, 'total_qual_gap Driver 1': -0.12000000000000022, 'total_corner_advantage Driver 1': 3695.1157305027264, 'qual_count Driver 1': 70, 'Average IQR Driver 2': 15.596, 'Average Gap Race Lap Driver 2': 2.3979999999999997, 'Lap Advantage Driver 2': 295, 'Average Pit Stop Time Driver 2': datetime.timedelta(seconds=304, microseconds=836000), 'total_count Driver 2': 8, 'total_pit_stop_number Driver 2': 14, 'total_qual_gap Driver 2': 0.12000000000000022, 'total_corner_advantage Driver 2': 3304.8842694972727, 'qual_count Driver 2': 70}, 'Nico Hulkenberg_Gabriel Bortoleto': {'Average IQR Driver 1': 19.870999999999995, 'Average Gap Race Lap Driver 1': -1.2100000000000002, 'Lap Advantage Driver 1': 487, 'Average Pit Stop Time Driver 1': datetime.timedelta(seconds=254, microseconds=358000), 'total_count Driver 1': 9, 'total_pit_stop_number Driver 1': 12, 'total_qual_gap Driver 1': -5.904, 'total_corner_advantage Driver 1': 1688.206545776205, 'qual_count Driver 1': 33, 'Average IQR Driver 2': 18.471, 'Average Gap Race Lap Driver 2': 1.2100000000000002, 'Lap Advantage Driver 2': 413, 'Average Pit Stop Time Driver 2': datetime.timedelta(seconds=349, microseconds=891000), 'total_count Driver 2': 9, 'total_pit_stop_number Driver 2': 15, 'total_qual_gap Driver 2': 5.904, 'total_corner_advantage Driver 2': 1611.793454223795, 'qual_count Driver 2': 33}, 'Esteban Ocon_Ollie Bearman': {'Average IQR Driver 1': 13.687999999999999, 'Average Gap Race Lap Driver 1': 1.0839999999999999, 'Lap Advantage Driver 1': 416, 'Average Pit Stop Time Driver 1': datetime.timedelta(seconds=261, microseconds=623000), 'total_count Driver 1': 9, 'total_pit_stop_number Driver 1': 12, 'total_qual_gap Driver 1': -6.57, 'total_corner_advantage Driver 1': 1554.1220698805837, 'qual_count Driver 1': 30, 'Average IQR Driver 2': 21.307000000000002, 'Average Gap Race Lap Driver 2': -1.0839999999999999, 'Lap Advantage Driver 2': 484, 'Average Pit Stop Time Driver 2': datetime.timedelta(seconds=302, microseconds=622000), 'total_count Driver 2': 9, 'total_pit_stop_number Driver 2': 12, 'total_qual_gap Driver 2': 6.57, 'total_corner_advantage Driver 2': 1445.8779301194163, 'qual_count Driver 2': 30}, 'Lando Norris_Oscar Piastri': {'Average IQR Driver 1': 14.639, 'Average Gap Race Lap Driver 1': 1.4649999999999999, 'Lap Advantage Driver 1': 396, 'Average Pit Stop Time Driver 1': datetime.timedelta(seconds=278, microseconds=501000), 'total_count Driver 1': 9, 'total_pit_stop_number Driver 1': 13, 'total_qual_gap Driver 1': -4.699000000000002, 'total_corner_advantage Driver 1': 3949.8232714138285, 'qual_count Driver 1': 71, 'Average IQR Driver 2': 14.498000000000001, 'Average Gap Race Lap Driver 2': -1.4649999999999999, 'Lap Advantage Driver 2': 504, 'Average Pit Stop Time Driver 2': datetime.timedelta(seconds=280, microseconds=750000), 'total_count Driver 2': 9, 'total_pit_stop_number Driver 2': 13, 'total_qual_gap Driver 2': 4.699000000000002, 'total_corner_advantage Driver 2': 3150.1767285861715, 'qual_count Driver 2': 71}, 'Pierre Gasly_Jack Doohan': {'Average IQR Driver 1': 10.63, 'Average Gap Race Lap Driver 1': -0.43799999999999994, 'Lap Advantage Driver 1': 365, 'Average Pit Stop Time Driver 1': datetime.timedelta(seconds=99, microseconds=170000), 'total_count Driver 1': 5, 'total_pit_stop_number Driver 1': 4, 'total_qual_gap Driver 1': -9.551999999999998, 'total_corner_advantage Driver 1': 1862.1627598407783, 'qual_count Driver 1': 34, 'Average IQR Driver 2': 7.344000000000001, 'Average Gap Race Lap Driver 2': 0.43799999999999994, 'Lap Advantage Driver 2': 135, 'Average Pit Stop Time Driver 2': datetime.timedelta(seconds=96, microseconds=59000), 'total_count Driver 2': 5, 'total_pit_stop_number Driver 2': 4, 'total_qual_gap Driver 2': 9.551999999999998, 'total_corner_advantage Driver 2': 1537.8372401592217, 'qual_count Driver 2': 34}, 'Yuki Tsunoda_Isack Hadjar': {'Average IQR Driver 1': 3.8179999999999996, 'Average Gap Race Lap Driver 1': -0.725, 'Lap Advantage Driver 1': 152, 'Average Pit Stop Time Driver 1': datetime.timedelta(seconds=83, microseconds=204000), 'total_count Driver 1': 2, 'total_pit_stop_number Driver 1': 3, 'total_qual_gap Driver 1': 0.952, 'total_corner_advantage Driver 1': 930.9803921568628, 'qual_count Driver 1': 17, 'Average IQR Driver 2': 2.992, 'Average Gap Race Lap Driver 2': 0.725, 'Lap Advantage Driver 2': 48, 'Average Pit Stop Time Driver 2': datetime.timedelta(seconds=45, microseconds=130000), 'total_count Driver 2': 2, 'total_pit_stop_number Driver 2': 2, 'total_qual_gap Driver 2': -0.952, 'total_corner_advantage Driver 2': 769.0196078431372, 'qual_count Driver 2': 17}, 'Alexander Albon_Carlos Sainz': {'Average IQR Driver 1': 13.689000000000002, 'Average Gap Race Lap Driver 1': -2.1809999999999996, 'Lap Advantage Driver 1': 583, 'Average Pit Stop Time Driver 1': datetime.timedelta(seconds=202, microseconds=137000), 'total_count Driver 1': 8, 'total_pit_stop_number Driver 1': 8, 'total_qual_gap Driver 1': -3.2339999999999995, 'total_corner_advantage Driver 1': 2839.9653545628776, 'qual_count Driver 1': 53, 'Average IQR Driver 2': 11.691, 'Average Gap Race Lap Driver 2': 2.1809999999999996, 'Lap Advantage Driver 2': 217, 'Average Pit Stop Time Driver 2': datetime.timedelta(seconds=239, microseconds=367000), 'total_count Driver 2': 8, 'total_pit_stop_number Driver 2': 9, 'total_qual_gap Driver 2': 3.2339999999999995, 'total_corner_advantage Driver 2': 2460.0346454371224, 'qual_count Driver 2': 53}, 'Max Verstappen_Yuki Tsunoda': {'Average IQR Driver 1': 7.458, 'Average Gap Race Lap Driver 1': -4.4319999999999995, 'Lap Advantage Driver 1': 418, 'Average Pit Stop Time Driver 1': datetime.timedelta(seconds=161, microseconds=131000), 'total_count Driver 1': 5, 'total_pit_stop_number Driver 1': 6, 'total_qual_gap Driver 1': -17.299, 'total_corner_advantage Driver 1': 1766.701127819549, 'qual_count Driver 1': 29, 'Average IQR Driver 2': 11.012999999999998, 'Average Gap Race Lap Driver 2': 4.4319999999999995, 'Lap Advantage Driver 2': 82, 'Average Pit Stop Time Driver 2': datetime.timedelta(seconds=127, microseconds=812000), 'total_count Driver 2': 5, 'total_pit_stop_number Driver 2': 5, 'total_qual_gap Driver 2': 17.299, 'total_corner_advantage Driver 2': 1133.2988721804513, 'qual_count Driver 2': 29}, 'Liam Lawson_Isack Hadjar': {'Average IQR Driver 1': 11.648, 'Average Gap Race Lap Driver 1': 3.8190000000000004, 'Lap Advantage Driver 1': 223, 'Average Pit Stop Time Driver 1': datetime.timedelta(seconds=176, microseconds=54000), 'total_count Driver 1': 6, 'total_pit_stop_number Driver 1': 7, 'total_qual_gap Driver 1': 10.016999999999998, 'total_corner_advantage Driver 1': 1323.3646616541353, 'qual_count Driver 1': 32, 'Average IQR Driver 2': 9.398, 'Average Gap Race Lap Driver 2': -3.8190000000000004, 'Lap Advantage Driver 2': 377, 'Average Pit Stop Time Driver 2': datetime.timedelta(seconds=176, microseconds=399000), 'total_count Driver 2': 6, 'total_pit_stop_number Driver 2': 7, 'total_qual_gap Driver 2': -10.016999999999998, 'total_corner_advantage Driver 2': 1876.6353383458645, 'qual_count Driver 2': 32}, 'Pierre Gasly_Franco Colapinto': {'Average IQR Driver 1': 1.259, 'Average Gap Race Lap Driver 1': -0.604, 'Lap Advantage Driver 1': 72, 'Average Pit Stop Time Driver 1': datetime.timedelta(seconds=63, microseconds=491000), 'total_count Driver 1': 1, 'total_pit_stop_number Driver 1': 2, 'total_qual_gap Driver 1': -0.9570000000000001, 'total_corner_advantage Driver 1': 165.00000000000003, 'qual_count Driver 1': 3, 'Average IQR Driver 2': 1.377, 'Average Gap Race Lap Driver 2': 0.604, 'Lap Advantage Driver 2': 28, 'Average Pit Stop Time Driver 2': datetime.timedelta(seconds=61, microseconds=424000), 'total_count Driver 2': 1, 'total_pit_stop_number Driver 2': 2, 'total_qual_gap Driver 2': 0.9570000000000001, 'total_corner_advantage Driver 2': 135.0, 'qual_count Driver 2': 3}}\n"
     ]
    }
   ],
   "source": [
    "print(recaps)"
   ]
  },
  {
   "cell_type": "code",
   "execution_count": 8,
   "metadata": {},
   "outputs": [
    {
     "name": "stdout",
     "output_type": "stream",
     "text": [
      "{'Max Verstappen_Yuki Tsunoda': {'total_iqr_driver_1': 1.606, 'total_gap_driver_1': -1.261, 'total_lap_advantage_driver_1': 96, 'total_pit_stop_time_driver_1': datetime.timedelta(seconds=59, microseconds=648000), 'total_pit_stop_number_driver_1': 2, 'count_driver_1': 1, 'total_pit_stop_number Driver 1': 0, 'total_qual_gap Driver 1': 0, 'total_corner_advantage Driver 1': 0, 'qual_count Driver 1': 0, 'total_iqr_driver_2': 1.463, 'total_gap_driver_2': 1.261, 'total_lap_advantage_driver_2': 4, 'total_pit_stop_time_driver_2': datetime.timedelta(seconds=29, microseconds=807000), 'total_pit_stop_number_driver_2': 1, 'count_driver_2': 1, 'total_pit_stop_number Driver 2': 0, 'total_qual_gap Driver 2': 0, 'total_corner_advantage Driver 2': 0, 'qual_count Driver 2': 0}, 'Pierre Gasly_Franco Colapinto': {'total_iqr_driver_1': 1.259, 'total_gap_driver_1': -0.604, 'total_lap_advantage_driver_1': 72, 'total_pit_stop_time_driver_1': datetime.timedelta(seconds=63, microseconds=491000), 'total_pit_stop_number_driver_1': 2, 'count_driver_1': 1, 'total_pit_stop_number Driver 1': 0, 'total_qual_gap Driver 1': -0.319, 'total_corner_advantage Driver 1': 55.00000000000001, 'qual_count Driver 1': 1, 'total_iqr_driver_2': 1.377, 'total_gap_driver_2': 0.604, 'total_lap_advantage_driver_2': 28, 'total_pit_stop_time_driver_2': datetime.timedelta(seconds=61, microseconds=424000), 'total_pit_stop_number_driver_2': 2, 'count_driver_2': 1, 'total_pit_stop_number Driver 2': 0, 'total_qual_gap Driver 2': 0.319, 'total_corner_advantage Driver 2': 45.0, 'qual_count Driver 2': 1}, 'Kimi Antonelli_George Russell': {'total_iqr_driver_1': 1.125, 'total_gap_driver_1': 0.823, 'total_lap_advantage_driver_1': 20, 'total_pit_stop_time_driver_1': datetime.timedelta(seconds=30, microseconds=51000), 'total_pit_stop_number_driver_1': 1, 'count_driver_1': 1, 'total_pit_stop_number Driver 1': 0, 'total_qual_gap Driver 1': 0.529, 'total_corner_advantage Driver 1': 80.0, 'qual_count Driver 1': 2, 'total_iqr_driver_2': 1.219, 'total_gap_driver_2': -0.823, 'total_lap_advantage_driver_2': 80, 'total_pit_stop_time_driver_2': datetime.timedelta(seconds=60, microseconds=538000), 'total_pit_stop_number_driver_2': 2, 'count_driver_2': 1, 'total_pit_stop_number Driver 2': 0, 'total_qual_gap Driver 2': -0.529, 'total_corner_advantage Driver 2': 120.0, 'qual_count Driver 2': 2}, 'Fernando Alonso_Lance Stroll': {'total_iqr_driver_1': 1.166, 'total_gap_driver_1': -0.097, 'total_lap_advantage_driver_1': 61, 'total_pit_stop_time_driver_1': datetime.timedelta(seconds=61, microseconds=49000), 'total_pit_stop_number_driver_1': 2, 'count_driver_1': 1, 'total_pit_stop_number Driver 1': 0, 'total_qual_gap Driver 1': -0.32699999999999996, 'total_corner_advantage Driver 1': 180.0, 'qual_count Driver 1': 3, 'total_iqr_driver_2': 0.771, 'total_gap_driver_2': 0.097, 'total_lap_advantage_driver_2': 39, 'total_pit_stop_time_driver_2': datetime.timedelta(seconds=65, microseconds=714000), 'total_pit_stop_number_driver_2': 2, 'count_driver_2': 1, 'total_pit_stop_number Driver 2': 0, 'total_qual_gap Driver 2': 0.32699999999999996, 'total_corner_advantage Driver 2': 120.0, 'qual_count Driver 2': 3}, 'Charles Leclerc_Lewis Hamilton': {'total_iqr_driver_1': 1.505, 'total_gap_driver_1': -0.681, 'total_lap_advantage_driver_1': 62, 'total_pit_stop_time_driver_1': datetime.timedelta(seconds=61, microseconds=532000), 'total_pit_stop_number_driver_1': 2, 'count_driver_1': 1, 'total_pit_stop_number Driver 1': 0, 'total_qual_gap Driver 1': -0.216, 'total_corner_advantage Driver 1': 115.0, 'qual_count Driver 1': 2, 'total_iqr_driver_2': 2.2, 'total_gap_driver_2': 0.681, 'total_lap_advantage_driver_2': 38, 'total_pit_stop_time_driver_2': datetime.timedelta(seconds=59, microseconds=899000), 'total_pit_stop_number_driver_2': 2, 'count_driver_2': 1, 'total_pit_stop_number Driver 2': 0, 'total_qual_gap Driver 2': 0.216, 'total_corner_advantage Driver 2': 85.0, 'qual_count Driver 2': 2}, 'Alexander Albon_Carlos Sainz': {'total_iqr_driver_1': 1.318, 'total_gap_driver_1': 0.184, 'total_lap_advantage_driver_1': 62, 'total_pit_stop_time_driver_1': datetime.timedelta(seconds=60, microseconds=257000), 'total_pit_stop_number_driver_1': 2, 'count_driver_1': 1, 'total_pit_stop_number Driver 1': 0, 'total_qual_gap Driver 1': 0.5, 'total_corner_advantage Driver 1': 130.0, 'qual_count Driver 1': 3, 'total_iqr_driver_2': 1.269, 'total_gap_driver_2': -0.184, 'total_lap_advantage_driver_2': 38, 'total_pit_stop_time_driver_2': datetime.timedelta(seconds=60, microseconds=715000), 'total_pit_stop_number_driver_2': 2, 'count_driver_2': 1, 'total_pit_stop_number Driver 2': 0, 'total_qual_gap Driver 2': -0.5, 'total_corner_advantage Driver 2': 170.0, 'qual_count Driver 2': 3}, 'Nico Hulkenberg_Gabriel Bortoleto': {'total_iqr_driver_1': 1.028, 'total_gap_driver_1': 0.291, 'total_lap_advantage_driver_1': 37, 'total_pit_stop_time_driver_1': datetime.timedelta(seconds=30, microseconds=184000), 'total_pit_stop_number_driver_1': 1, 'count_driver_1': 1, 'total_pit_stop_number Driver 1': 0, 'total_qual_gap Driver 1': 0.178, 'total_corner_advantage Driver 1': 30.0, 'qual_count Driver 1': 1, 'total_iqr_driver_2': 1.111, 'total_gap_driver_2': -0.291, 'total_lap_advantage_driver_2': 63, 'total_pit_stop_time_driver_2': datetime.timedelta(seconds=91, microseconds=428000), 'total_pit_stop_number_driver_2': 3, 'count_driver_2': 1, 'total_pit_stop_number Driver 2': 0, 'total_qual_gap Driver 2': -0.178, 'total_corner_advantage Driver 2': 70.0, 'qual_count Driver 2': 1}, 'Liam Lawson_Isack Hadjar': {'total_iqr_driver_1': 1.354, 'total_gap_driver_1': 0.238, 'total_lap_advantage_driver_1': 35, 'total_pit_stop_time_driver_1': datetime.timedelta(seconds=59, microseconds=986000), 'total_pit_stop_number_driver_1': 2, 'count_driver_1': 1, 'total_pit_stop_number Driver 1': 0, 'total_qual_gap Driver 1': 0.126, 'total_corner_advantage Driver 1': 50.0, 'qual_count Driver 1': 1, 'total_iqr_driver_2': 1.599, 'total_gap_driver_2': -0.238, 'total_lap_advantage_driver_2': 65, 'total_pit_stop_time_driver_2': datetime.timedelta(seconds=60, microseconds=219000), 'total_pit_stop_number_driver_2': 2, 'count_driver_2': 1, 'total_pit_stop_number Driver 2': 0, 'total_qual_gap Driver 2': -0.126, 'total_corner_advantage Driver 2': 50.0, 'qual_count Driver 2': 1}, 'Esteban Ocon_Ollie Bearman': {'total_iqr_driver_1': 0.831, 'total_gap_driver_1': 0.413, 'total_lap_advantage_driver_1': 26, 'total_pit_stop_time_driver_1': datetime.timedelta(seconds=30, microseconds=506000), 'total_pit_stop_number_driver_1': 1, 'count_driver_1': 1, 'total_pit_stop_number Driver 1': 0, 'total_qual_gap Driver 1': 0.536, 'total_corner_advantage Driver 1': 45.0, 'qual_count Driver 1': 1, 'total_iqr_driver_2': 2.318, 'total_gap_driver_2': -0.413, 'total_lap_advantage_driver_2': 74, 'total_pit_stop_time_driver_2': datetime.timedelta(seconds=88, microseconds=171000), 'total_pit_stop_number_driver_2': 2, 'count_driver_2': 1, 'total_pit_stop_number Driver 2': 0, 'total_qual_gap Driver 2': -0.536, 'total_corner_advantage Driver 2': 55.00000000000001, 'qual_count Driver 2': 1}, 'Lando Norris_Oscar Piastri': {'total_iqr_driver_1': 1.856, 'total_gap_driver_1': 0.033, 'total_lap_advantage_driver_1': 49, 'total_pit_stop_time_driver_1': datetime.timedelta(seconds=61, microseconds=188000), 'total_pit_stop_number_driver_1': 2, 'count_driver_1': 1, 'total_pit_stop_number Driver 1': 0, 'total_qual_gap Driver 1': 0.733, 'total_corner_advantage Driver 1': 105.0, 'qual_count Driver 1': 3, 'total_iqr_driver_2': 1.672, 'total_gap_driver_2': -0.033, 'total_lap_advantage_driver_2': 51, 'total_pit_stop_time_driver_2': datetime.timedelta(seconds=61, microseconds=582000), 'total_pit_stop_number_driver_2': 2, 'count_driver_2': 1, 'total_pit_stop_number Driver 2': 0, 'total_qual_gap Driver 2': -0.733, 'total_corner_advantage Driver 2': 195.0, 'qual_count Driver 2': 3}}\n"
     ]
    }
   ],
   "source": [
    "print(temp_recap)"
   ]
  },
  {
   "cell_type": "code",
   "execution_count": null,
   "metadata": {},
   "outputs": [],
   "source": []
  }
 ],
 "metadata": {
  "kernelspec": {
   "display_name": "Python 3",
   "language": "python",
   "name": "python3"
  },
  "language_info": {
   "codemirror_mode": {
    "name": "ipython",
    "version": 3
   },
   "file_extension": ".py",
   "mimetype": "text/x-python",
   "name": "python",
   "nbconvert_exporter": "python",
   "pygments_lexer": "ipython3",
   "version": "3.10.12"
  },
  "orig_nbformat": 4
 },
 "nbformat": 4,
 "nbformat_minor": 2
}
